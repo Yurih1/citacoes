{
  "nbformat": 4,
  "nbformat_minor": 0,
  "metadata": {
    "colab": {
      "name": "Aula4.ipynb",
      "provenance": [],
      "collapsed_sections": [],
      "authorship_tag": "ABX9TyMtbiM+7MUisqhD19eQF9eZ",
      "include_colab_link": true
    },
    "kernelspec": {
      "name": "python3",
      "display_name": "Python 3"
    },
    "language_info": {
      "name": "python"
    }
  },
  "cells": [
    {
      "cell_type": "markdown",
      "metadata": {
        "id": "view-in-github",
        "colab_type": "text"
      },
      "source": [
        "<a href=\"https://colab.research.google.com/github/Yurih1/DataScience/blob/master/Aula4.ipynb\" target=\"_parent\"><img src=\"https://colab.research.google.com/assets/colab-badge.svg\" alt=\"Open In Colab\"/></a>"
      ]
    },
    {
      "cell_type": "code",
      "metadata": {
        "colab": {
          "base_uri": "https://localhost:8080/"
        },
        "id": "BV6eTmHshc69",
        "outputId": "4c0585c6-9e3f-4a3e-804f-ed4b58a78881"
      },
      "source": [
        "#lisasta(list)\n",
        "notas = [8.5, 7.2, 8.0, 9.5, 4.5, 5.5]\n",
        "print(notas)"
      ],
      "execution_count": null,
      "outputs": [
        {
          "output_type": "stream",
          "text": [
            "[8.5, 7.2, 8.0, 9.5, 4.5, 5.5]\n"
          ],
          "name": "stdout"
        }
      ]
    },
    {
      "cell_type": "code",
      "metadata": {
        "colab": {
          "base_uri": "https://localhost:8080/"
        },
        "id": "8t9iBxDgi7Af",
        "outputId": "01a22bb3-bb48-41dc-f209-e61bc998225e"
      },
      "source": [
        "# sum() - soma\n",
        "# len() - tamanho da lista\n",
        "media = sum(notas) / len(notas)\n",
        "print(media)"
      ],
      "execution_count": null,
      "outputs": [
        {
          "output_type": "stream",
          "text": [
            "7.2\n"
          ],
          "name": "stdout"
        }
      ]
    },
    {
      "cell_type": "code",
      "metadata": {
        "colab": {
          "base_uri": "https://localhost:8080/"
        },
        "id": "b3o3gYDojgOg",
        "outputId": "31ce33c8-08af-4dba-f95b-634eccb04ecc"
      },
      "source": [
        "# menor nota\n",
        "print('menor nota:', min(notas))"
      ],
      "execution_count": null,
      "outputs": [
        {
          "output_type": "stream",
          "text": [
            "menor nota: 4.5\n"
          ],
          "name": "stdout"
        }
      ]
    },
    {
      "cell_type": "code",
      "metadata": {
        "colab": {
          "base_uri": "https://localhost:8080/"
        },
        "id": "7LphJctjjrCa",
        "outputId": "83ed0ad5-65a8-44c5-ced1-43c376abefb2"
      },
      "source": [
        "# maior nota\n",
        "print('maior nota:', max(notas))"
      ],
      "execution_count": null,
      "outputs": [
        {
          "output_type": "stream",
          "text": [
            "maior nota: 9.5\n"
          ],
          "name": "stdout"
        }
      ]
    },
    {
      "cell_type": "code",
      "metadata": {
        "colab": {
          "base_uri": "https://localhost:8080/"
        },
        "id": "5p_1Sm-ZkGBd",
        "outputId": "5c6f7ad4-a19c-4681-f872-7ec40df7c130"
      },
      "source": [
        "# como saber quais são as notas \"cheias\": 2.0, 8.0\n",
        "notas = [8.5, 7.2, 8.0, 9.5, 4.5, 5.5, 9.7, 10.0]\n",
        "for i in notas:\n",
        "  if (i % 2 == 0):\n",
        "    print(i)"
      ],
      "execution_count": null,
      "outputs": [
        {
          "output_type": "stream",
          "text": [
            "8.0\n",
            "10.0\n"
          ],
          "name": "stdout"
        }
      ]
    },
    {
      "cell_type": "code",
      "metadata": {
        "colab": {
          "base_uri": "https://localhost:8080/"
        },
        "id": "l1BnrrGElQJ3",
        "outputId": "0dd0bc28-e83d-4561-aefa-c8d94bfebc9e"
      },
      "source": [
        "#Baseado na linha acima, calcular a média das notas que não são inteiras\n",
        "soma = 0\n",
        "for nota in notas:\n",
        "  if nota != int(nota):\n",
        "    print(nota)\n",
        "    soma+= nota\n",
        "    \n",
        "print(soma/len(notas))"
      ],
      "execution_count": null,
      "outputs": [
        {
          "output_type": "stream",
          "text": [
            "8.5\n",
            "7.2\n",
            "9.5\n",
            "4.5\n",
            "5.5\n",
            "9.7\n",
            "5.612500000000001\n"
          ],
          "name": "stdout"
        }
      ]
    },
    {
      "cell_type": "code",
      "metadata": {
        "colab": {
          "base_uri": "https://localhost:8080/"
        },
        "id": "eEvW2EONtsi2",
        "outputId": "2863d629-e147-47bb-d1b5-4e8852257657"
      },
      "source": [
        "# Acessando indice e valor de uma lista no mesmo comando - enumerate()\n",
        "notas = [8.5, 7.2, 8.0, 9.5, 4.5, 5.5, 9.7, 10.0]\n",
        "for key, value in enumerate(notas):\n",
        "  print(key, value)"
      ],
      "execution_count": null,
      "outputs": [
        {
          "output_type": "stream",
          "text": [
            "0 8.5\n",
            "1 7.2\n",
            "2 8.0\n",
            "3 9.5\n",
            "4 4.5\n",
            "5 5.5\n",
            "6 9.7\n",
            "7 10.0\n"
          ],
          "name": "stdout"
        }
      ]
    },
    {
      "cell_type": "markdown",
      "metadata": {
        "id": "jZ9R2g0zoUD8"
      },
      "source": [
        "# Dicionários\n",
        "\n",
        "São estruturas semelhantes as listas, porém não são ordenados e a sua composição é do tipo: <code>key</code>:<code>value</code>\n",
        "\n",
        "Os delimitadores de um dicionário são as chaves {} "
      ]
    },
    {
      "cell_type": "code",
      "metadata": {
        "colab": {
          "base_uri": "https://localhost:8080/"
        },
        "id": "ZG5FKuKaoysb",
        "outputId": "630d9182-3610-4cdc-e2c5-b6ad25a5205f"
      },
      "source": [
        "# O conceito de chave:valor (key:value) é o padrao JSON\n",
        "#{\"id\": 10, \"name\": \"John\"}\n",
        "\n",
        "\n",
        "aluno = {'id': 1, 'nome': 'Yuri Santos', 'idade': 26, 'formacao': 'CC'}\n",
        "\n",
        "print(aluno)"
      ],
      "execution_count": null,
      "outputs": [
        {
          "output_type": "stream",
          "text": [
            "{'id': 1, 'nome': 'Yuri Santos', 'idade': 26, 'formacao': 'CC'}\n"
          ],
          "name": "stdout"
        }
      ]
    },
    {
      "cell_type": "code",
      "metadata": {
        "colab": {
          "base_uri": "https://localhost:8080/"
        },
        "id": "IoqnfHQnsdQf",
        "outputId": "44059e33-da27-475c-f917-25aa912c67ea"
      },
      "source": [
        "#Acessando um valor pela chave (key)\n",
        "print('ID', aluno['id'])\n",
        "print('Nome', aluno['nome'])"
      ],
      "execution_count": null,
      "outputs": [
        {
          "output_type": "stream",
          "text": [
            "ID 1\n",
            "Nome Yuri Santos\n"
          ],
          "name": "stdout"
        }
      ]
    },
    {
      "cell_type": "code",
      "metadata": {
        "colab": {
          "base_uri": "https://localhost:8080/"
        },
        "id": "2Gu5WsWCs7IP",
        "outputId": "8833d020-7590-47b9-9c6a-5039899f29a0"
      },
      "source": [
        "# Podemos acessar um valor usando o get()\n",
        "print(aluno.get('nome'))"
      ],
      "execution_count": null,
      "outputs": [
        {
          "output_type": "stream",
          "text": [
            "Yuri Santos\n"
          ],
          "name": "stdout"
        }
      ]
    },
    {
      "cell_type": "code",
      "metadata": {
        "colab": {
          "base_uri": "https://localhost:8080/"
        },
        "id": "52vwDK0ntJLl",
        "outputId": "8e8f8ed2-632c-4b38-c5f1-84d575a6bfee"
      },
      "source": [
        "# Percorrendo(laço de repetição) um dicionário \n",
        "# É mais usual dizer que vamor iterar um conjuto de dados ou iterate\n",
        "\n",
        "chaves = aluno.keys() #pega todas as chaves do dicionário\n",
        "\n",
        "for chave in chaves:\n",
        "  print(chave,':', aluno[chave])\n"
      ],
      "execution_count": null,
      "outputs": [
        {
          "output_type": "stream",
          "text": [
            "id : 1\n",
            "nome : Yuri Santos\n",
            "idade : 26\n",
            "formacao : CC\n"
          ],
          "name": "stdout"
        }
      ]
    },
    {
      "cell_type": "code",
      "metadata": {
        "colab": {
          "base_uri": "https://localhost:8080/"
        },
        "id": "sAAkQOEIwrnh",
        "outputId": "7352297e-e5f3-49d5-8fc2-675a95960afa"
      },
      "source": [
        "# Usando o get()\n",
        "\n",
        "chaves = aluno.keys() #pega todas as chaves do dicionário\n",
        "\n",
        "for chave in chaves:\n",
        "  print(chave,':', aluno.get(chave))"
      ],
      "execution_count": null,
      "outputs": [
        {
          "output_type": "stream",
          "text": [
            "id : 1\n",
            "nome : Yuri Santos\n",
            "idade : 26\n",
            "formacao : CC\n"
          ],
          "name": "stdout"
        }
      ]
    },
    {
      "cell_type": "code",
      "metadata": {
        "colab": {
          "base_uri": "https://localhost:8080/"
        },
        "id": "4_F5JnYmxh9R",
        "outputId": "21a3e759-4640-4e93-de58-9e6e08143241"
      },
      "source": [
        "# interando no dicionário de forma direta\n",
        "for chave, valor in aluno.items():\n",
        "  print(chave, valor)"
      ],
      "execution_count": null,
      "outputs": [
        {
          "output_type": "stream",
          "text": [
            "id 1\n",
            "nome Yuri Santos\n",
            "idade 26\n",
            "formacao CC\n"
          ],
          "name": "stdout"
        }
      ]
    },
    {
      "cell_type": "markdown",
      "metadata": {
        "id": "lrZ0LQsrza8t"
      },
      "source": [
        "#Operações com dicionários\n",
        "* Inclusão\n",
        "* Remoção\n",
        "* Alteração\n",
        "\n"
      ]
    },
    {
      "cell_type": "code",
      "metadata": {
        "colab": {
          "base_uri": "https://localhost:8080/"
        },
        "id": "L_hWs7q-zlkY",
        "outputId": "e718cef8-32a5-480c-b4fc-d2ae57f3b1da"
      },
      "source": [
        "# Inclundo dados no dicionário \n",
        "#primeira forma\n",
        "aluno['av1'] = 8.0\n",
        "print(aluno)"
      ],
      "execution_count": null,
      "outputs": [
        {
          "output_type": "stream",
          "text": [
            "{'id': 1, 'nome': 'Yuri Santos', 'idade': 26, 'formacao': 'CC', 'av1': 8.0}\n"
          ],
          "name": "stdout"
        }
      ]
    },
    {
      "cell_type": "code",
      "metadata": {
        "colab": {
          "base_uri": "https://localhost:8080/"
        },
        "id": "BfNk7ogR0MfV",
        "outputId": "7e0fa700-c4a7-4fc0-e310-336fe4e439a2"
      },
      "source": [
        "# Inclundo dados no dicionário \n",
        "# Segunda forma - update()\n",
        "# Quando usamos o update, se o valor existir o mesmo será atualizado, senão será criado\n",
        "aluno.update({'av2': 7.5})\n",
        "print(aluno)"
      ],
      "execution_count": null,
      "outputs": [
        {
          "output_type": "stream",
          "text": [
            "{'id': 1, 'nome': 'Yuri Santos', 'idade': 26, 'formacao': 'CC', 'av1': 8.0, 'av2': 7.5}\n"
          ],
          "name": "stdout"
        }
      ]
    },
    {
      "cell_type": "code",
      "metadata": {
        "colab": {
          "base_uri": "https://localhost:8080/"
        },
        "id": "cZ247cX2034v",
        "outputId": "9bcbd1db-2752-41c0-e507-67339397db53"
      },
      "source": [
        "#Altualizar as notas AV1 para 6.0 e av2 para 9.5\n",
        "aluno.update({'av1': 6.0, 'av2': 9.5})\n",
        "print(aluno)\n"
      ],
      "execution_count": null,
      "outputs": [
        {
          "output_type": "stream",
          "text": [
            "{'id': 1, 'nome': 'Yuri Santos', 'idade': 26, 'formacao': 'CC', 'av1': 6.0, 'av2': 9.5}\n"
          ],
          "name": "stdout"
        }
      ]
    },
    {
      "cell_type": "code",
      "metadata": {
        "colab": {
          "base_uri": "https://localhost:8080/"
        },
        "id": "SAouTK4I1l6V",
        "outputId": "6dcf5feb-b196-4c3a-fe93-fad01364cf17"
      },
      "source": [
        "#criando um dicionário com as seguintes entradas:\n",
        "\n",
        "pessoa = {'id': 200, 'nome': 'Yuri Silva', 'email': 'yuri@dominio.com'}\n",
        "print(pessoa.get('id'))"
      ],
      "execution_count": null,
      "outputs": [
        {
          "output_type": "stream",
          "text": [
            "200\n"
          ],
          "name": "stdout"
        }
      ]
    },
    {
      "cell_type": "code",
      "metadata": {
        "colab": {
          "base_uri": "https://localhost:8080/"
        },
        "id": "DdOHf7cp3NIQ",
        "outputId": "4f8bf4c2-6971-4a38-b0f4-8986204c27ce"
      },
      "source": [
        "# Buscas em dicionário \n",
        "'av1' in aluno"
      ],
      "execution_count": null,
      "outputs": [
        {
          "output_type": "execute_result",
          "data": {
            "text/plain": [
              "True"
            ]
          },
          "metadata": {
            "tags": []
          },
          "execution_count": 58
        }
      ]
    },
    {
      "cell_type": "code",
      "metadata": {
        "colab": {
          "base_uri": "https://localhost:8080/"
        },
        "id": "CLT82TXn3U8T",
        "outputId": "521ddeb9-212b-4363-c509-79ddffc267eb"
      },
      "source": [
        "'av1' not in aluno"
      ],
      "execution_count": null,
      "outputs": [
        {
          "output_type": "execute_result",
          "data": {
            "text/plain": [
              "False"
            ]
          },
          "metadata": {
            "tags": []
          },
          "execution_count": 59
        }
      ]
    },
    {
      "cell_type": "code",
      "metadata": {
        "colab": {
          "base_uri": "https://localhost:8080/"
        },
        "id": "TWNF0oi53a7B",
        "outputId": "3ed32dc5-335a-4d1a-a37d-435effd7d487"
      },
      "source": [
        "'av3' not in aluno"
      ],
      "execution_count": null,
      "outputs": [
        {
          "output_type": "execute_result",
          "data": {
            "text/plain": [
              "True"
            ]
          },
          "metadata": {
            "tags": []
          },
          "execution_count": 60
        }
      ]
    },
    {
      "cell_type": "markdown",
      "metadata": {
        "id": "JTcUeadr3o0C"
      },
      "source": [
        "# Integrando dicionários com listas"
      ]
    },
    {
      "cell_type": "code",
      "metadata": {
        "colab": {
          "base_uri": "https://localhost:8080/"
        },
        "id": "GDKtj-2_3s9A",
        "outputId": "ea66f10c-f9a7-4f80-9748-6949f4acab2d"
      },
      "source": [
        "exemplo = {'id': 1, 'name': 'Yuri', 'grades':[3.0, 2.0, 8.5] }\n",
        "print(exemplo)"
      ],
      "execution_count": null,
      "outputs": [
        {
          "output_type": "stream",
          "text": [
            "{'id': 1, 'name': 'Yuri', 'grades': [3.0, 2.0, 8.5]}\n"
          ],
          "name": "stdout"
        }
      ]
    },
    {
      "cell_type": "code",
      "metadata": {
        "colab": {
          "base_uri": "https://localhost:8080/"
        },
        "id": "PuZSmuIv6YP6",
        "outputId": "6bb4a288-2c9b-412d-d0f3-fd680811f567"
      },
      "source": [
        "exemplo.get('grades')"
      ],
      "execution_count": null,
      "outputs": [
        {
          "output_type": "execute_result",
          "data": {
            "text/plain": [
              "[3.0, 2.0, 8.5]"
            ]
          },
          "metadata": {
            "tags": []
          },
          "execution_count": 64
        }
      ]
    },
    {
      "cell_type": "code",
      "metadata": {
        "colab": {
          "base_uri": "https://localhost:8080/"
        },
        "id": "WXSud3nv6bfY",
        "outputId": "9dc5461c-90f9-4b7b-ddd5-18252fef546e"
      },
      "source": [
        "#criando uma lista de dicionários\n",
        "alunos = []\n",
        "alunos.append({'id': 1, 'nome':'Yuri',})\n",
        "alunos.append({'id': 2, 'nome':'José',})\n",
        "print(alunos)"
      ],
      "execution_count": null,
      "outputs": [
        {
          "output_type": "stream",
          "text": [
            "[{'id': 1, 'nome': 'Yuri'}, {'id': 2, 'nome': 'José'}]\n"
          ],
          "name": "stdout"
        }
      ]
    },
    {
      "cell_type": "code",
      "metadata": {
        "colab": {
          "base_uri": "https://localhost:8080/"
        },
        "id": "AdJHgXZL7D7i",
        "outputId": "96d2a848-3db8-4a53-f56f-3a1a53b72bfc"
      },
      "source": [
        "# Iterando nossos alunos\n",
        "for entrada in alunos:\n",
        "  for key, value in entrada.items():\n",
        "    print(key, ':', value)\n",
        "  print()"
      ],
      "execution_count": null,
      "outputs": [
        {
          "output_type": "stream",
          "text": [
            "id : 1\n",
            "nome : Yuri\n",
            "\n",
            "id : 2\n",
            "nome : José\n",
            "\n"
          ],
          "name": "stdout"
        }
      ]
    },
    {
      "cell_type": "code",
      "metadata": {
        "id": "Z_B_n0tDNgSJ"
      },
      "source": [
        ""
      ],
      "execution_count": 6,
      "outputs": []
    }
  ]
}