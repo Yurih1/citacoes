{
  "nbformat": 4,
  "nbformat_minor": 0,
  "metadata": {
    "colab": {
      "name": "aula2.ipynb",
      "provenance": [],
      "collapsed_sections": [],
      "authorship_tag": "ABX9TyN0PHA09yMovP51JYAZsXrg",
      "include_colab_link": true
    },
    "kernelspec": {
      "name": "python3",
      "display_name": "Python 3"
    }
  },
  "cells": [
    {
      "cell_type": "markdown",
      "metadata": {
        "id": "view-in-github",
        "colab_type": "text"
      },
      "source": [
        "<a href=\"https://colab.research.google.com/github/Yurih1/citacoes/blob/master/aula2.ipynb\" target=\"_parent\"><img src=\"https://colab.research.google.com/assets/colab-badge.svg\" alt=\"Open In Colab\"/></a>"
      ]
    },
    {
      "cell_type": "code",
      "metadata": {
        "colab": {
          "base_uri": "https://localhost:8080/"
        },
        "id": "9jA2KBvcVXRf",
        "outputId": "ada3aaf5-444c-43d7-e7b5-26c2cbb76df6"
      },
      "source": [
        "#Desvios condicionais \n",
        "\n",
        "a = 10\n",
        "b = 20\n",
        "\n",
        "if(a < b):\n",
        "  print(a < b)\n",
        "print('Depois do IF')"
      ],
      "execution_count": null,
      "outputs": [
        {
          "output_type": "stream",
          "text": [
            "True\n",
            "Depois do IF\n"
          ],
          "name": "stdout"
        }
      ]
    },
    {
      "cell_type": "code",
      "metadata": {
        "colab": {
          "base_uri": "https://localhost:8080/"
        },
        "id": "Fs_wC4iwXdzt",
        "outputId": "1a2b7336-cacd-44af-bcad-5e6d11a6ef3c"
      },
      "source": [
        "if (a > b):\n",
        "  print(a > b)\n",
        "else:\n",
        "  print(a < b)"
      ],
      "execution_count": null,
      "outputs": [
        {
          "output_type": "stream",
          "text": [
            "True\n"
          ],
          "name": "stdout"
        }
      ]
    },
    {
      "cell_type": "code",
      "metadata": {
        "colab": {
          "base_uri": "https://localhost:8080/"
        },
        "id": "DtE-qQjkZtEu",
        "outputId": "2598cc3d-05ff-4eb6-c045-e5522b00cb85"
      },
      "source": [
        "a = 10\n",
        "b = 20\n",
        "c = 30\n",
        "\n",
        "if (a > b):\n",
        "  print(a > b)\n",
        "else:\n",
        "  print(a < b)\n",
        "  \n",
        "  if (a > c):\n",
        "    print(a > c)\n",
        "  else:\n",
        "    print(a < c)\n"
      ],
      "execution_count": null,
      "outputs": [
        {
          "output_type": "stream",
          "text": [
            "True\n",
            "True\n"
          ],
          "name": "stdout"
        }
      ]
    },
    {
      "cell_type": "code",
      "metadata": {
        "colab": {
          "base_uri": "https://localhost:8080/"
        },
        "id": "wESnFNdwbTFb",
        "outputId": "f2baf1cd-c4db-4ef8-daa5-57e350bd715e"
      },
      "source": [
        "#else if (elif)\n",
        "idade = 18\n",
        "\n",
        "if (idade < 12):\n",
        "    print(\"Criança\")\n",
        "\n",
        "elif (idade < 18):\n",
        "    print(\"Adolescente\")\n",
        "\n",
        "elif (idade < 60):\n",
        "    print(\"Adulto\")\n",
        "\n",
        "else:\n",
        "    print(\"Experiente\")"
      ],
      "execution_count": null,
      "outputs": [
        {
          "output_type": "stream",
          "text": [
            "Adulto\n"
          ],
          "name": "stdout"
        }
      ]
    },
    {
      "cell_type": "code",
      "metadata": {
        "colab": {
          "base_uri": "https://localhost:8080/"
        },
        "id": "TlGew_f6eQLs",
        "outputId": "fb8d6531-16ea-4804-cab1-d7cc9e18b913"
      },
      "source": [
        "# if inline/ operador ternário \n",
        "# expressao_verdade if condicao else expressao_false\n",
        "\n",
        "print( (True if(10 > 2) else False) )\n",
        "print( (\"É maior\" if(10 > 2) else \"É menor\") )"
      ],
      "execution_count": null,
      "outputs": [
        {
          "output_type": "stream",
          "text": [
            "True\n",
            "É maior\n"
          ],
          "name": "stdout"
        }
      ]
    },
    {
      "cell_type": "code",
      "metadata": {
        "colab": {
          "base_uri": "https://localhost:8080/"
        },
        "id": "Vv5Emy8Dgqkp",
        "outputId": "089c0ba8-1192-4eac-8135-9f5f935cb579"
      },
      "source": [
        "a = (\"Dois é menor que três\" if (2 < 3) else False)\n",
        "print(a)\n",
        "\n",
        "print(( a if (10 < 2) else False))"
      ],
      "execution_count": null,
      "outputs": [
        {
          "output_type": "stream",
          "text": [
            "Dois é menor que três\n",
            "False\n"
          ],
          "name": "stdout"
        }
      ]
    },
    {
      "cell_type": "code",
      "metadata": {
        "colab": {
          "base_uri": "https://localhost:8080/"
        },
        "id": "OA29MDXyhKL4",
        "outputId": "2d61a33b-266d-4783-9607-137077fec984"
      },
      "source": [
        "r = ( (True if (2 < 3) else False) if (10 > 2) else False)\n",
        "\n",
        "if (r):\n",
        "  print(r)"
      ],
      "execution_count": null,
      "outputs": [
        {
          "output_type": "stream",
          "text": [
            "True\n"
          ],
          "name": "stdout"
        }
      ]
    },
    {
      "cell_type": "code",
      "metadata": {
        "colab": {
          "base_uri": "https://localhost:8080/",
          "height": 35
        },
        "id": "gxgQb4kmioQ1",
        "outputId": "3d2fa048-b002-40e4-a47c-7f50308a9d47"
      },
      "source": [
        "id = 18\n",
        "\n",
        "(\"C\" if (id < 12) else (\"AD\" if (id < 18) else (\"A\" if (id < 60 ) else \"E\" ) ) ) \n"
      ],
      "execution_count": null,
      "outputs": [
        {
          "output_type": "execute_result",
          "data": {
            "application/vnd.google.colaboratory.intrinsic+json": {
              "type": "string"
            },
            "text/plain": [
              "'A'"
            ]
          },
          "metadata": {
            "tags": []
          },
          "execution_count": 34
        }
      ]
    },
    {
      "cell_type": "code",
      "metadata": {
        "colab": {
          "base_uri": "https://localhost:8080/"
        },
        "id": "QsrKNP4MmQBn",
        "outputId": "7a2abfa9-6bdc-4be3-cda8-cde21ee0a6a7"
      },
      "source": [
        "# laços FOR WHILE\n",
        "\n",
        "#exemplo do uso do FOR\n",
        "\n",
        "for i in range(11, 0, -1):\n",
        "  print(i)\n",
        "\n"
      ],
      "execution_count": null,
      "outputs": [
        {
          "output_type": "stream",
          "text": [
            "11\n",
            "10\n",
            "9\n",
            "8\n",
            "7\n",
            "6\n",
            "5\n",
            "4\n",
            "3\n",
            "2\n",
            "1\n"
          ],
          "name": "stdout"
        }
      ]
    },
    {
      "cell_type": "code",
      "metadata": {
        "colab": {
          "base_uri": "https://localhost:8080/"
        },
        "id": "0KcSwSyWoYvK",
        "outputId": "3147414e-b02c-4f0f-fd39-5ab436203890"
      },
      "source": [
        "for u in range(0, 102, 2):\n",
        "  print(u)"
      ],
      "execution_count": null,
      "outputs": [
        {
          "output_type": "stream",
          "text": [
            "0\n",
            "2\n",
            "4\n",
            "6\n",
            "8\n",
            "10\n",
            "12\n",
            "14\n",
            "16\n",
            "18\n",
            "20\n",
            "22\n",
            "24\n",
            "26\n",
            "28\n",
            "30\n",
            "32\n",
            "34\n",
            "36\n",
            "38\n",
            "40\n",
            "42\n",
            "44\n",
            "46\n",
            "48\n",
            "50\n",
            "52\n",
            "54\n",
            "56\n",
            "58\n",
            "60\n",
            "62\n",
            "64\n",
            "66\n",
            "68\n",
            "70\n",
            "72\n",
            "74\n",
            "76\n",
            "78\n",
            "80\n",
            "82\n",
            "84\n",
            "86\n",
            "88\n",
            "90\n",
            "92\n",
            "94\n",
            "96\n",
            "98\n",
            "100\n"
          ],
          "name": "stdout"
        }
      ]
    },
    {
      "cell_type": "code",
      "metadata": {
        "colab": {
          "base_uri": "https://localhost:8080/"
        },
        "id": "TKMNqsbppadL",
        "outputId": "d65eb80f-a689-4b0e-f49d-3ceec820306e"
      },
      "source": [
        "nome = \"Yuri Silva Oliveira Santos\"\n",
        "for letra in nome.split(' '): #split procura um valor dentro da sequencia\n",
        "  print(letra)"
      ],
      "execution_count": null,
      "outputs": [
        {
          "output_type": "stream",
          "text": [
            "Yuri\n",
            "Silva\n",
            "Oliveira\n",
            "Santos\n"
          ],
          "name": "stdout"
        }
      ]
    },
    {
      "cell_type": "code",
      "metadata": {
        "colab": {
          "base_uri": "https://localhost:8080/",
          "height": 35
        },
        "id": "shp7elLTqKGD",
        "outputId": "f17ddb6f-731f-453e-cb8a-f49f35790dc7"
      },
      "source": [
        "var = \"Yuri Silva Oliveira Santos\".split(' ')\n",
        "var[2]"
      ],
      "execution_count": null,
      "outputs": [
        {
          "output_type": "execute_result",
          "data": {
            "application/vnd.google.colaboratory.intrinsic+json": {
              "type": "string"
            },
            "text/plain": [
              "'Oliveira'"
            ]
          },
          "metadata": {
            "tags": []
          },
          "execution_count": 53
        }
      ]
    },
    {
      "cell_type": "code",
      "metadata": {
        "colab": {
          "base_uri": "https://localhost:8080/"
        },
        "id": "C2fAYX6zr9YO",
        "outputId": "e40ba684-300e-4831-b342-31904c93a194"
      },
      "source": [
        "#while \n",
        "contador = 1\n",
        "while contador < 11:\n",
        "  print(contador)\n",
        "\n",
        "  #incrementar o contador para satisfazer a condição, else 'loop infinito'.\n",
        "  contador += 2\n",
        "print(\"FIM\") "
      ],
      "execution_count": null,
      "outputs": [
        {
          "output_type": "stream",
          "text": [
            "1\n",
            "3\n",
            "5\n",
            "7\n",
            "9\n",
            "FIM\n"
          ],
          "name": "stdout"
        }
      ]
    },
    {
      "cell_type": "code",
      "metadata": {
        "colab": {
          "base_uri": "https://localhost:8080/"
        },
        "id": "97FboU8lthto",
        "outputId": "5df8867e-92f7-4917-af81-e2b9f092710b"
      },
      "source": [
        "tabu = int(input(\"DIGITE UM NUMERO: \"))\n",
        "for i in range(1, 11):\n",
        "  print(tabu ,\"X\", i ,\"= \", tabu * i)\n",
        " "
      ],
      "execution_count": null,
      "outputs": [
        {
          "output_type": "stream",
          "text": [
            "DIGITE UM NUMERO: 30\n",
            "30 X 1 =  30\n",
            "30 X 2 =  60\n",
            "30 X 3 =  90\n",
            "30 X 4 =  120\n",
            "30 X 5 =  150\n",
            "30 X 6 =  180\n",
            "30 X 7 =  210\n",
            "30 X 8 =  240\n",
            "30 X 9 =  270\n",
            "30 X 10 =  300\n"
          ],
          "name": "stdout"
        }
      ]
    },
    {
      "cell_type": "code",
      "metadata": {
        "colab": {
          "base_uri": "https://localhost:8080/"
        },
        "id": "gUgEdTAiw1to",
        "outputId": "b951c937-115b-4839-aa6b-a543ae5a784b"
      },
      "source": [
        "tabu = int(input(\"DIGITE UM NUMERO: \"))\n",
        "for i in range(1, 11, 2):\n",
        "  print(tabu ,\"X\", i ,\"= \", tabu * i)"
      ],
      "execution_count": null,
      "outputs": [
        {
          "output_type": "stream",
          "text": [
            "DIGITE UM NUMERO: 80\n",
            "80 X 1 =  80\n",
            "80 X 3 =  240\n",
            "80 X 5 =  400\n",
            "80 X 7 =  560\n",
            "80 X 9 =  720\n"
          ],
          "name": "stdout"
        }
      ]
    }
  ]
}