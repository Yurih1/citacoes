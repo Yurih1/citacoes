{
  "nbformat": 4,
  "nbformat_minor": 0,
  "metadata": {
    "colab": {
      "name": "Aula3.ipynb",
      "provenance": [],
      "collapsed_sections": [],
      "authorship_tag": "ABX9TyPIjg1FY/aIDXbzFfYZhCEi",
      "include_colab_link": true
    },
    "kernelspec": {
      "name": "python3",
      "display_name": "Python 3"
    },
    "language_info": {
      "name": "python"
    }
  },
  "cells": [
    {
      "cell_type": "markdown",
      "metadata": {
        "id": "view-in-github",
        "colab_type": "text"
      },
      "source": [
        "<a href=\"https://colab.research.google.com/github/Yurih1/citacoes/blob/master/Aula3.ipynb\" target=\"_parent\"><img src=\"https://colab.research.google.com/assets/colab-badge.svg\" alt=\"Open In Colab\"/></a>"
      ]
    },
    {
      "cell_type": "code",
      "metadata": {
        "colab": {
          "base_uri": "https://localhost:8080/"
        },
        "id": "WidONqT8XOm7",
        "outputId": "3ad147c2-49f4-4d22-87d9-4619831f66a0"
      },
      "source": [
        "lista_vazia =[]\n",
        "lista_vazia"
      ],
      "execution_count": 1,
      "outputs": [
        {
          "output_type": "execute_result",
          "data": {
            "text/plain": [
              "[]"
            ]
          },
          "metadata": {
            "tags": []
          },
          "execution_count": 1
        }
      ]
    },
    {
      "cell_type": "code",
      "metadata": {
        "colab": {
          "base_uri": "https://localhost:8080/"
        },
        "id": "EVfndJ7ChDK9",
        "outputId": "0b4dbd34-e7d0-40de-ec12-b6df9206aeb9"
      },
      "source": [
        "#Tipos de variáveis diferentes em uma lista\n",
        "lista_mista = ['uninove', 3, 23.45, None, True]\n",
        "lista_mista"
      ],
      "execution_count": 2,
      "outputs": [
        {
          "output_type": "execute_result",
          "data": {
            "text/plain": [
              "['uninove', 3, 23.45, None, True]"
            ]
          },
          "metadata": {
            "tags": []
          },
          "execution_count": 2
        }
      ]
    },
    {
      "cell_type": "code",
      "metadata": {
        "colab": {
          "base_uri": "https://localhost:8080/"
        },
        "id": "2O3WglMyhbay",
        "outputId": "7e97375e-4a45-4a27-d241-97fd6e35c1e7"
      },
      "source": [
        "lista_paises = ['Brasil', 'Argentina', 'Paraguai', 'Canadá', 'França']\n",
        "lista_paises"
      ],
      "execution_count": 21,
      "outputs": [
        {
          "output_type": "execute_result",
          "data": {
            "text/plain": [
              "['Brasil', 'Argentina', 'Paraguai', 'Canadá', 'França']"
            ]
          },
          "metadata": {
            "tags": []
          },
          "execution_count": 21
        }
      ]
    },
    {
      "cell_type": "code",
      "metadata": {
        "colab": {
          "base_uri": "https://localhost:8080/",
          "height": 35
        },
        "id": "yH0RtFsshxbx",
        "outputId": "d17b41b9-39dd-4555-8398-39331e9d6850"
      },
      "source": [
        "#acessando elementos (itens)\n",
        "lista_paises[4]"
      ],
      "execution_count": 4,
      "outputs": [
        {
          "output_type": "execute_result",
          "data": {
            "application/vnd.google.colaboratory.intrinsic+json": {
              "type": "string"
            },
            "text/plain": [
              "'França'"
            ]
          },
          "metadata": {
            "tags": []
          },
          "execution_count": 4
        }
      ]
    },
    {
      "cell_type": "code",
      "metadata": {
        "colab": {
          "base_uri": "https://localhost:8080/"
        },
        "id": "1KZEtZRTitA9",
        "outputId": "c79b889a-d570-4acf-e644-d5fd844cd61b"
      },
      "source": [
        "#vamos percorrer a lista\n",
        "\n",
        "for pais in lista_paises:\n",
        "  print(pais)"
      ],
      "execution_count": 5,
      "outputs": [
        {
          "output_type": "stream",
          "text": [
            "brasi,\n",
            "Argentina\n",
            "Paraguai\n",
            "Canadá\n",
            "França\n"
          ],
          "name": "stdout"
        }
      ]
    },
    {
      "cell_type": "code",
      "metadata": {
        "colab": {
          "base_uri": "https://localhost:8080/"
        },
        "id": "UL_BUNnRkIev",
        "outputId": "7001fb77-83e5-4745-9504-7345b0ac1b18"
      },
      "source": [
        "#indice do item da lista\n",
        "for pais in lista_paises:\n",
        "  print('Posição:', lista_paises.index(pais), pais)"
      ],
      "execution_count": 22,
      "outputs": [
        {
          "output_type": "stream",
          "text": [
            "Posição: 0 Brasil\n",
            "Posição: 1 Argentina\n",
            "Posição: 2 Paraguai\n",
            "Posição: 3 Canadá\n",
            "Posição: 4 França\n"
          ],
          "name": "stdout"
        }
      ]
    },
    {
      "cell_type": "code",
      "metadata": {
        "colab": {
          "base_uri": "https://localhost:8080/"
        },
        "id": "7O-ta3fAkrGO",
        "outputId": "dfab4a08-2ebf-49ea-d43d-4be80aa7d7b9"
      },
      "source": [
        "#lista com 10 numero imprimindo somente os impares\n",
        "lista_num = [1, 2, 3, 4, 5, 6, 7, 8, 9, 10]\n",
        "for y in lista_num:\n",
        "  if(y % 2 != 0):\n",
        "    print(y)"
      ],
      "execution_count": 16,
      "outputs": [
        {
          "output_type": "stream",
          "text": [
            "1\n",
            "3\n",
            "5\n",
            "7\n",
            "9\n"
          ],
          "name": "stdout"
        }
      ]
    },
    {
      "cell_type": "code",
      "metadata": {
        "colab": {
          "base_uri": "https://localhost:8080/"
        },
        "id": "JaZzaw6wn7cw",
        "outputId": "963d26f8-684f-45ee-f0b7-57d563d15cc8"
      },
      "source": [
        "'alemanha' in lista_paises"
      ],
      "execution_count": 17,
      "outputs": [
        {
          "output_type": "execute_result",
          "data": {
            "text/plain": [
              "False"
            ]
          },
          "metadata": {
            "tags": []
          },
          "execution_count": 17
        }
      ]
    },
    {
      "cell_type": "code",
      "metadata": {
        "colab": {
          "base_uri": "https://localhost:8080/"
        },
        "id": "55KaJA8vodV1",
        "outputId": "706607b8-3768-4138-9904-6044656f78de"
      },
      "source": [
        "'Alemanha' not in lista_paises"
      ],
      "execution_count": 18,
      "outputs": [
        {
          "output_type": "execute_result",
          "data": {
            "text/plain": [
              "True"
            ]
          },
          "metadata": {
            "tags": []
          },
          "execution_count": 18
        }
      ]
    },
    {
      "cell_type": "code",
      "metadata": {
        "colab": {
          "base_uri": "https://localhost:8080/"
        },
        "id": "w6Mli3oUp5Yl",
        "outputId": "9f0b56f8-68aa-4fc2-ee0f-9f7b51d22656"
      },
      "source": [
        "# Operações em listas\n",
        "#append, remove, count, len, sort, reverse\n",
        "lista_campus = ['Vergueiro', 'Memorial', 'Vila Maria']\n",
        "lista_campus"
      ],
      "execution_count": 23,
      "outputs": [
        {
          "output_type": "execute_result",
          "data": {
            "text/plain": [
              "['Vergueiro', 'Memorial', 'Vila Maria']"
            ]
          },
          "metadata": {
            "tags": []
          },
          "execution_count": 23
        }
      ]
    },
    {
      "cell_type": "code",
      "metadata": {
        "colab": {
          "base_uri": "https://localhost:8080/"
        },
        "id": "QmVNIXnQqcV7",
        "outputId": "16e4cb2a-2a3f-4999-ec35-3edc4bf727ac"
      },
      "source": [
        "#adicionando um elemento no final da lista : append\n",
        "lista_campus.append('Santo amaro')\n",
        "lista_campus"
      ],
      "execution_count": 24,
      "outputs": [
        {
          "output_type": "execute_result",
          "data": {
            "text/plain": [
              "['Vergueiro', 'Memorial', 'Vila Maria', 'Santo amaro']"
            ]
          },
          "metadata": {
            "tags": []
          },
          "execution_count": 24
        }
      ]
    },
    {
      "cell_type": "code",
      "metadata": {
        "colab": {
          "base_uri": "https://localhost:8080/"
        },
        "id": "ii3xlzRXqsXa",
        "outputId": "2d0b8241-e2c6-4c67-dcc3-b7ec1c041de0"
      },
      "source": [
        "#vamos ordenas a lista\n",
        "lista = [1, 3, -6, 89, -4]\n",
        "lista.sort() #ordenado em ordem crescente\n",
        "lista"
      ],
      "execution_count": 25,
      "outputs": [
        {
          "output_type": "execute_result",
          "data": {
            "text/plain": [
              "[-6, -4, 1, 3, 89]"
            ]
          },
          "metadata": {
            "tags": []
          },
          "execution_count": 25
        }
      ]
    },
    {
      "cell_type": "code",
      "metadata": {
        "colab": {
          "base_uri": "https://localhost:8080/"
        },
        "id": "1ybeCJCPsEN9",
        "outputId": "acbb2e96-f2dd-4f48-fb2b-c87e7706cd6c"
      },
      "source": [
        "#ordem decrecente: reverse\n",
        "lista = [1, 3, -6, 89, -4]\n",
        "print('Lista original..........:', lista)\n",
        "\n",
        "lista.sort()\n",
        "print('Lista ordenada crescente:', lista)\n",
        "\n",
        "lista.reverse()\n",
        "print('Lista decrescente.......:', lista)"
      ],
      "execution_count": 27,
      "outputs": [
        {
          "output_type": "stream",
          "text": [
            "Lista original..........: [1, 3, -6, 89, -4]\n",
            "Lista ordenada crescente: [-6, -4, 1, 3, 89]\n",
            "Lista decrescente.......: [89, 3, 1, -4, -6]\n"
          ],
          "name": "stdout"
        }
      ]
    },
    {
      "cell_type": "code",
      "metadata": {
        "colab": {
          "base_uri": "https://localhost:8080/"
        },
        "id": "JT99ObcStQUM",
        "outputId": "5bab6eb2-d8e0-4d5b-c842-61450c6e8bff"
      },
      "source": [
        "len(lista) #numero de elementos"
      ],
      "execution_count": 29,
      "outputs": [
        {
          "output_type": "execute_result",
          "data": {
            "text/plain": [
              "5"
            ]
          },
          "metadata": {
            "tags": []
          },
          "execution_count": 29
        }
      ]
    },
    {
      "cell_type": "code",
      "metadata": {
        "colab": {
          "base_uri": "https://localhost:8080/"
        },
        "id": "4DlyaC2gtcEI",
        "outputId": "698ed673-f7dc-4c35-b301-72654bf759cb"
      },
      "source": [
        "lista.remove(-4) \n",
        "lista"
      ],
      "execution_count": 33,
      "outputs": [
        {
          "output_type": "execute_result",
          "data": {
            "text/plain": [
              "[3, 1, -6]"
            ]
          },
          "metadata": {
            "tags": []
          },
          "execution_count": 33
        }
      ]
    },
    {
      "cell_type": "code",
      "metadata": {
        "colab": {
          "base_uri": "https://localhost:8080/"
        },
        "id": "pSp8cCAlu9C4",
        "outputId": "4e54a352-853f-4d37-e194-901f4e20186b"
      },
      "source": [
        "lista = ['Edson', 'Maria', 'joao', 'Ana', 'Pedro', 'Yuri']\n",
        "print(len(lista))"
      ],
      "execution_count": 35,
      "outputs": [
        {
          "output_type": "stream",
          "text": [
            "6\n"
          ],
          "name": "stdout"
        }
      ]
    },
    {
      "cell_type": "code",
      "metadata": {
        "colab": {
          "base_uri": "https://localhost:8080/"
        },
        "id": "Zn7bHrrbvPnr",
        "outputId": "a87188d0-ae6c-424a-c947-44696127e078"
      },
      "source": [
        "#adicionar um item pelo indice: insert\n",
        "lista.insert(0, 'marcio')\n",
        "lista"
      ],
      "execution_count": 36,
      "outputs": [
        {
          "output_type": "execute_result",
          "data": {
            "text/plain": [
              "['marcio', 'Edson', 'Maria', 'joao', 'Ana', 'Pedro', 'Yuri']"
            ]
          },
          "metadata": {
            "tags": []
          },
          "execution_count": 36
        }
      ]
    },
    {
      "cell_type": "code",
      "metadata": {
        "colab": {
          "base_uri": "https://localhost:8080/"
        },
        "id": "aJ7fmQHKvcCf",
        "outputId": "85ca315c-e022-48c3-ef35-e401da948647"
      },
      "source": [
        "lista.insert(4, 'Mauricio')\n",
        "lista"
      ],
      "execution_count": 37,
      "outputs": [
        {
          "output_type": "execute_result",
          "data": {
            "text/plain": [
              "['marcio', 'Edson', 'Maria', 'joao', 'Mauricio', 'Ana', 'Pedro', 'Yuri']"
            ]
          },
          "metadata": {
            "tags": []
          },
          "execution_count": 37
        }
      ]
    },
    {
      "cell_type": "code",
      "metadata": {
        "colab": {
          "base_uri": "https://localhost:8080/"
        },
        "id": "ip_h_zX7vuzw",
        "outputId": "0562376d-07f1-47af-bb00-d06903960478"
      },
      "source": [
        "len(lista)"
      ],
      "execution_count": 38,
      "outputs": [
        {
          "output_type": "execute_result",
          "data": {
            "text/plain": [
              "8"
            ]
          },
          "metadata": {
            "tags": []
          },
          "execution_count": 38
        }
      ]
    },
    {
      "cell_type": "code",
      "metadata": {
        "colab": {
          "base_uri": "https://localhost:8080/"
        },
        "id": "afdJPdjGvxu1",
        "outputId": "c6fe293d-78ec-48d8-f6b6-60688bee7052"
      },
      "source": [
        "#contando elementos dentro da lista: count\n",
        "lista.count('Edson')"
      ],
      "execution_count": 39,
      "outputs": [
        {
          "output_type": "execute_result",
          "data": {
            "text/plain": [
              "1"
            ]
          },
          "metadata": {
            "tags": []
          },
          "execution_count": 39
        }
      ]
    },
    {
      "cell_type": "code",
      "metadata": {
        "colab": {
          "base_uri": "https://localhost:8080/"
        },
        "id": "2H_TSl7Sv8hh",
        "outputId": "2105fb2c-3d42-481e-d0fb-92be142152a2"
      },
      "source": [
        "lista.count('Gabriela')"
      ],
      "execution_count": 40,
      "outputs": [
        {
          "output_type": "execute_result",
          "data": {
            "text/plain": [
              "0"
            ]
          },
          "metadata": {
            "tags": []
          },
          "execution_count": 40
        }
      ]
    },
    {
      "cell_type": "code",
      "metadata": {
        "colab": {
          "base_uri": "https://localhost:8080/",
          "height": 35
        },
        "id": "sAaCZo7twHag",
        "outputId": "6858c28d-e765-45f2-d8cf-e19cc98cfa04"
      },
      "source": [
        "('Esta na lista' if lista.count('Gabriela')else ('Não esta na lista'))"
      ],
      "execution_count": 42,
      "outputs": [
        {
          "output_type": "execute_result",
          "data": {
            "application/vnd.google.colaboratory.intrinsic+json": {
              "type": "string"
            },
            "text/plain": [
              "'Não esta na lista'"
            ]
          },
          "metadata": {
            "tags": []
          },
          "execution_count": 42
        }
      ]
    },
    {
      "cell_type": "code",
      "metadata": {
        "colab": {
          "base_uri": "https://localhost:8080/"
        },
        "id": "7JUPeW_twdw1",
        "outputId": "8067608f-6d58-48f7-91a0-528b0ddbe0aa"
      },
      "source": [
        "nome = input('digite seu nome: ')\n",
        "(lista.index(nome) if lista.count(nome) else 'Não está na lista')"
      ],
      "execution_count": 44,
      "outputs": [
        {
          "output_type": "stream",
          "text": [
            "digite seu nome: Yuri\n"
          ],
          "name": "stdout"
        },
        {
          "output_type": "execute_result",
          "data": {
            "text/plain": [
              "7"
            ]
          },
          "metadata": {
            "tags": []
          },
          "execution_count": 44
        }
      ]
    },
    {
      "cell_type": "code",
      "metadata": {
        "colab": {
          "base_uri": "https://localhost:8080/"
        },
        "id": "zM-D6Oqfw-dG",
        "outputId": "59306e89-c8e8-4a8e-f17f-970305a8b945"
      },
      "source": [
        "lista1 = ['vergueiro', 'memorial', 'Vila Maira']\n",
        "lista2 = ['TADS', 'CC', 'SI']\n",
        "\n",
        "result = lista1.extend(lista2)\n",
        "print('TADS' in lista1)"
      ],
      "execution_count": 45,
      "outputs": [
        {
          "output_type": "stream",
          "text": [
            "True\n"
          ],
          "name": "stdout"
        }
      ]
    },
    {
      "cell_type": "code",
      "metadata": {
        "colab": {
          "base_uri": "https://localhost:8080/"
        },
        "id": "BHOhef7qzJBI",
        "outputId": "7969abb5-f24e-4dbd-a6b6-21c343f60fd9"
      },
      "source": [
        "# Realizando calculos: maximos, mínimos e soma de valores\n",
        "lista = [1, 5, 7, 8, 89]\n",
        "#maxio\n",
        "max(lista)"
      ],
      "execution_count": 46,
      "outputs": [
        {
          "output_type": "execute_result",
          "data": {
            "text/plain": [
              "89"
            ]
          },
          "metadata": {
            "tags": []
          },
          "execution_count": 46
        }
      ]
    },
    {
      "cell_type": "code",
      "metadata": {
        "colab": {
          "base_uri": "https://localhost:8080/"
        },
        "id": "SIAo7OpI1AUE",
        "outputId": "a5393564-4c53-47ff-e00e-2b4b46573cf3"
      },
      "source": [
        "#mínimo da lista\n",
        "min(lista)"
      ],
      "execution_count": 47,
      "outputs": [
        {
          "output_type": "execute_result",
          "data": {
            "text/plain": [
              "1"
            ]
          },
          "metadata": {
            "tags": []
          },
          "execution_count": 47
        }
      ]
    },
    {
      "cell_type": "code",
      "metadata": {
        "colab": {
          "base_uri": "https://localhost:8080/"
        },
        "id": "_NIcqGhz1FZn",
        "outputId": "66030168-5e4e-4838-c139-8a8d46f2dbf4"
      },
      "source": [
        "#soma\n",
        "sum(lista)"
      ],
      "execution_count": 48,
      "outputs": [
        {
          "output_type": "execute_result",
          "data": {
            "text/plain": [
              "110"
            ]
          },
          "metadata": {
            "tags": []
          },
          "execution_count": 48
        }
      ]
    },
    {
      "cell_type": "code",
      "metadata": {
        "colab": {
          "base_uri": "https://localhost:8080/"
        },
        "id": "A4WO5iY31-kY",
        "outputId": "7d1c3f37-2348-4a7e-fc4a-eb2297e2579e"
      },
      "source": [
        "# Slice ou fatiamento \n",
        "lista_campus = ['memorial', 'Vila Maria', 'Vila Prudente', 'Vergueiro']\n",
        "\n",
        "print(lista_campus[1:3]) # [Indice inicial:Indice final]\n",
        "print(lista_campus[2:4])"
      ],
      "execution_count": 54,
      "outputs": [
        {
          "output_type": "stream",
          "text": [
            "['Vila Maria', 'Vila Prudente']\n",
            "['Vila Prudente', 'Vergueiro']\n"
          ],
          "name": "stdout"
        }
      ]
    }
  ]
}