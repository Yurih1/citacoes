{
  "nbformat": 4,
  "nbformat_minor": 0,
  "metadata": {
    "colab": {
      "name": "aula1.ipynb",
      "provenance": [],
      "collapsed_sections": [],
      "authorship_tag": "ABX9TyPYl07ik2Raqr/YxtyIumf2",
      "include_colab_link": true
    },
    "kernelspec": {
      "name": "python3",
      "display_name": "Python 3"
    }
  },
  "cells": [
    {
      "cell_type": "markdown",
      "metadata": {
        "id": "view-in-github",
        "colab_type": "text"
      },
      "source": [
        "<a href=\"https://colab.research.google.com/github/Yurih1/citacoes/blob/master/aula1.ipynb\" target=\"_parent\"><img src=\"https://colab.research.google.com/assets/colab-badge.svg\" alt=\"Open In Colab\"/></a>"
      ]
    },
    {
      "cell_type": "code",
      "metadata": {
        "colab": {
          "base_uri": "https://localhost:8080/"
        },
        "id": "ZF3lhT6adQMI",
        "outputId": "a2ff9e76-4bc8-443c-d8a6-ef473de8ecec"
      },
      "source": [
        "x = 10\n",
        "y = 7.3\n",
        "\n",
        "# descobrindo o tipo da variável\n",
        "print(type (x))\n"
      ],
      "execution_count": null,
      "outputs": [
        {
          "output_type": "stream",
          "text": [
            "<class 'int'>\n"
          ],
          "name": "stdout"
        }
      ]
    },
    {
      "cell_type": "code",
      "metadata": {
        "colab": {
          "base_uri": "https://localhost:8080/"
        },
        "id": "9yMd3f3ggC6O",
        "outputId": "df640450-7be4-4c5c-baeb-641fb146d6b1"
      },
      "source": [
        "# formatação personalizada \n",
        "\n",
        "z = 154.1793817391311\n",
        "print(\"o valor da variavel 'z' é: %.02f\" %z)\n"
      ],
      "execution_count": null,
      "outputs": [
        {
          "output_type": "stream",
          "text": [
            "o valor da variavel 'z' é: 154.18\n"
          ],
          "name": "stdout"
        }
      ]
    },
    {
      "cell_type": "code",
      "metadata": {
        "colab": {
          "base_uri": "https://localhost:8080/"
        },
        "id": "lfH0AFLbhRSo",
        "outputId": "049fabc0-7fc4-4f57-eb0d-da18469942ec"
      },
      "source": [
        "#textos e numeros\n",
        "\n",
        "nome = \"Yuri Silva\"\n",
        "idade = 26\n",
        "complemento = \"anos\"\n",
        "\n",
        "formato = \"{0} {1} {2}\"\n",
        "\n",
        "print(formato.format(nome, idade, complemento))\n"
      ],
      "execution_count": null,
      "outputs": [
        {
          "output_type": "stream",
          "text": [
            "Yuri Silva 26 anos\n"
          ],
          "name": "stdout"
        }
      ]
    },
    {
      "cell_type": "code",
      "metadata": {
        "colab": {
          "base_uri": "https://localhost:8080/"
        },
        "id": "0AX8YX5Fh5cD",
        "outputId": "f69b044b-bc5b-4803-b660-8d8490c1e94a"
      },
      "source": [
        "print(nome + \" \" + str(idade)) # str() converte valores numericos para texto "
      ],
      "execution_count": null,
      "outputs": [
        {
          "output_type": "stream",
          "text": [
            "Yuri Silva 26\n"
          ],
          "name": "stdout"
        }
      ]
    },
    {
      "cell_type": "code",
      "metadata": {
        "colab": {
          "base_uri": "https://localhost:8080/"
        },
        "id": "zxQhbVB-iVui",
        "outputId": "7aceadbb-e6dd-49f6-84a5-848454799ee9"
      },
      "source": [
        "a = 8\n",
        "b = 8\n",
        "print(\"Soma entre\", a, \"e\", b, \"=\", (a + b))\n",
        "print(\"Subtração entre\", a, \"e\", b, \"=\", (a - b))\n",
        "print(\"multiplicação entre\", a, \"e\", b, \"=\", (a * b))\n",
        "print(\"Divisão inteira entre\", a, \"e\", b, \"=\", (a // b)) # divisão inteira \"//\"\n",
        "print(\"Resto da divisão entre\", a, \"e\", b, \"=\", (a % b))\n",
        "print(\"Potência entre \", a, \"e\", b, \"=\", (a ** b)) # potência \"**\""
      ],
      "execution_count": null,
      "outputs": [
        {
          "output_type": "stream",
          "text": [
            "Soma entre 8 e 8 = 16\n",
            "Subtração entre 8 e 8 = 0\n",
            "multiplicação entre 8 e 8 = 64\n",
            "Divisão inteira entre 8 e 8 = 1\n",
            "Resto da divisão entre 8 e 8 = 0\n",
            "Potência entre  8 e 8 = 16777216\n"
          ],
          "name": "stdout"
        }
      ]
    },
    {
      "cell_type": "markdown",
      "metadata": {
        "id": "u8eDVvTjjP1B"
      },
      "source": [
        ""
      ]
    },
    {
      "cell_type": "code",
      "metadata": {
        "colab": {
          "base_uri": "https://localhost:8080/"
        },
        "id": "W3gH_LTimbia",
        "outputId": "f089d69d-03c1-4022-9da8-a54247d0a2ac"
      },
      "source": [
        "# opradores Lógicos (AND, OR ou NOT)\n",
        "a = 1 \n",
        "b = 5\n",
        "c = 2\n",
        "d = 6\n",
        "\n",
        "print((a > 1) and (c < 3)) #F e V\n",
        "\n",
        "print((b < d) or (a > 1)) #V ou F\n",
        "\n",
        "print(not ((c > d) and (d == b))) #F e F\n"
      ],
      "execution_count": null,
      "outputs": [
        {
          "output_type": "stream",
          "text": [
            "False\n",
            "True\n",
            "True\n"
          ],
          "name": "stdout"
        }
      ]
    },
    {
      "cell_type": "code",
      "metadata": {
        "colab": {
          "base_uri": "https://localhost:8080/"
        },
        "id": "MZ8ol-87qU45",
        "outputId": "c7b6917c-a457-4638-e321-58476d6f3d5d"
      },
      "source": [
        "#Conversões de tipos\n",
        "\n",
        "print( int(\"10\"))\n",
        "print( float(\"10\"))\n",
        "print(str(10) +\" Café\")\n",
        "print(abs(-154.587))\n"
      ],
      "execution_count": null,
      "outputs": [
        {
          "output_type": "stream",
          "text": [
            "10\n",
            "10.0\n",
            "10 Café\n",
            "154.587\n"
          ],
          "name": "stdout"
        }
      ]
    },
    {
      "cell_type": "code",
      "metadata": {
        "colab": {
          "base_uri": "https://localhost:8080/"
        },
        "id": "EJwJSFhKrzm5",
        "outputId": "4bd4d65b-3ded-4cae-9702-d1ddafce9452"
      },
      "source": [
        "#Entrada de Dados \n",
        "\n",
        "entrada = input(\"Digite seu nome: \")\n",
        "print(\"Olá\", entrada)"
      ],
      "execution_count": null,
      "outputs": [
        {
          "output_type": "stream",
          "text": [
            "Digite seu nome: yuri\n",
            "Olá yuri\n"
          ],
          "name": "stdout"
        }
      ]
    },
    {
      "cell_type": "code",
      "metadata": {
        "colab": {
          "base_uri": "https://localhost:8080/"
        },
        "id": "MtNzHBi3sKQM",
        "outputId": "42ce3dd1-36f5-46a9-fc57-3b8e25a77f0a"
      },
      "source": [
        "a = int(input(\"Digite o primeiro número: \"))\n",
        "b = int(input(\"Digite o segundo número: \"))\n",
        "print (\"X = \", a + b,\"\\n\")"
      ],
      "execution_count": null,
      "outputs": [
        {
          "output_type": "stream",
          "text": [
            "Digite o primeiro número: 5\n",
            "Digite o segundo número: 10\n",
            "X =  15 \n",
            "\n"
          ],
          "name": "stdout"
        }
      ]
    },
    {
      "cell_type": "code",
      "metadata": {
        "colab": {
          "base_uri": "https://localhost:8080/"
        },
        "id": "mAQzcqs-wHOf",
        "outputId": "a5877d3d-c2d3-4f08-ba1e-64f42e8a1251"
      },
      "source": [
        "a = float(input(\"Digite o valor A: \"))\n",
        "b = float(input(\"Digite o valor B: \"))\n",
        "c = float(input(\"Digite o valor C: \"))\n",
        "\n",
        "resultado = ((b*b)- 4*a*(c))\n",
        "print(\"o valor é : \", resultado)"
      ],
      "execution_count": null,
      "outputs": [
        {
          "output_type": "stream",
          "text": [
            "Digite o valor A: 2\n",
            "Digite o valor B: 8\n",
            "Digite o valor C: -24\n",
            "o valor é :  256.0\n"
          ],
          "name": "stdout"
        }
      ]
    }
  ]
}