{
  "nbformat": 4,
  "nbformat_minor": 0,
  "metadata": {
    "colab": {
      "name": "Regressao_Linearipynb",
      "provenance": [],
      "authorship_tag": "ABX9TyOOzaBqJpW/jb6vDM2gohbj",
      "include_colab_link": true
    },
    "kernelspec": {
      "name": "python3",
      "display_name": "Python 3"
    },
    "language_info": {
      "name": "python"
    }
  },
  "cells": [
    {
      "cell_type": "markdown",
      "metadata": {
        "id": "view-in-github",
        "colab_type": "text"
      },
      "source": [
        "<a href=\"https://colab.research.google.com/github/Yurih1/DataScience/blob/master/Regressao_Linearipynb.ipynb\" target=\"_parent\"><img src=\"https://colab.research.google.com/assets/colab-badge.svg\" alt=\"Open In Colab\"/></a>"
      ]
    },
    {
      "cell_type": "markdown",
      "metadata": {
        "id": "VrkVhamhAPTj"
      },
      "source": [
        "# Linear Regression (Regressão Linear)"
      ]
    },
    {
      "cell_type": "code",
      "metadata": {
        "id": "SpcjXDNnAj1F"
      },
      "source": [
        "# Vamos estudar regressão linear partindo de notas de alunos\n",
        "\n",
        "# Estudante\tHoras_de_Estudo\tNota (0-100)\n",
        "#     1\t        1\t          53\n",
        "#     2\t        5\t          74\n",
        "#     3\t        7\t          59\n",
        "#     4\t        8\t          43\n",
        "#     5\t        10\t        56\n",
        "#     6\t        11\t        84\n",
        "#     7\t        14\t        96\n",
        "#     8\t        15\t        69\n",
        "#     9\t        15\t        84\n",
        "#    10\t        19\t        83"
      ],
      "execution_count": null,
      "outputs": []
    },
    {
      "cell_type": "code",
      "metadata": {
        "id": "qVKw6dI6HMz3"
      },
      "source": [
        "import numpy as np\n",
        "from sklearn.linear_model import LinearRegression"
      ],
      "execution_count": null,
      "outputs": []
    },
    {
      "cell_type": "code",
      "metadata": {
        "colab": {
          "base_uri": "https://localhost:8080/"
        },
        "id": "5rnih2ObKB6E",
        "outputId": "742bcff6-f820-4ed2-84e5-11b009997875"
      },
      "source": [
        "horas_estudo = np.array([1,5,7,8,10,11,14,15,15,19]).reshape((-1, 1))\n",
        "horas_estudo"
      ],
      "execution_count": null,
      "outputs": [
        {
          "output_type": "execute_result",
          "data": {
            "text/plain": [
              "array([[ 1],\n",
              "       [ 5],\n",
              "       [ 7],\n",
              "       [ 8],\n",
              "       [10],\n",
              "       [11],\n",
              "       [14],\n",
              "       [15],\n",
              "       [15],\n",
              "       [19]])"
            ]
          },
          "metadata": {
            "tags": []
          },
          "execution_count": 4
        }
      ]
    },
    {
      "cell_type": "code",
      "metadata": {
        "colab": {
          "base_uri": "https://localhost:8080/"
        },
        "id": "fCiFyFL_KsGQ",
        "outputId": "24016a00-245d-45e4-deeb-5510e5352d73"
      },
      "source": [
        "notas = np.array([53,74,59,43,56,84,96,69,84,83]).reshape((-1, 1))\n",
        "notas"
      ],
      "execution_count": null,
      "outputs": [
        {
          "output_type": "execute_result",
          "data": {
            "text/plain": [
              "array([[53],\n",
              "       [74],\n",
              "       [59],\n",
              "       [43],\n",
              "       [56],\n",
              "       [84],\n",
              "       [96],\n",
              "       [69],\n",
              "       [84],\n",
              "       [83]])"
            ]
          },
          "metadata": {
            "tags": []
          },
          "execution_count": 6
        }
      ]
    },
    {
      "cell_type": "code",
      "metadata": {
        "id": "GTLJOnJCLSzL"
      },
      "source": [
        "# Criando um modelo de regressão \n",
        "modelo = LinearRegression()"
      ],
      "execution_count": null,
      "outputs": []
    },
    {
      "cell_type": "code",
      "metadata": {
        "colab": {
          "base_uri": "https://localhost:8080/"
        },
        "id": "MFN3ScudLfnr",
        "outputId": "7a83ed2f-bd2b-4ee1-e52f-d6a75ab643a6"
      },
      "source": [
        "# Agora vamos treinas nosso modelo - fit()\n",
        "modelo.fit(horas_estudo, notas)"
      ],
      "execution_count": null,
      "outputs": [
        {
          "output_type": "execute_result",
          "data": {
            "text/plain": [
              "LinearRegression(copy_X=True, fit_intercept=True, n_jobs=None, normalize=False)"
            ]
          },
          "metadata": {
            "tags": []
          },
          "execution_count": 8
        }
      ]
    },
    {
      "cell_type": "code",
      "metadata": {
        "id": "YlEjb_ZYL2PL"
      },
      "source": [
        "# Avaliando os resultados \n",
        "# Intercep: mostra o ponto onde a regressão \"estimada\" cruza o eixo y, quando x=0\n",
        "# Slop: Representa quanto o valor vai aumentar ou diminuir a resposta da predição"
      ],
      "execution_count": null,
      "outputs": []
    },
    {
      "cell_type": "code",
      "metadata": {
        "colab": {
          "base_uri": "https://localhost:8080/"
        },
        "id": "J4XuRnPcNjdF",
        "outputId": "28d65466-236b-462d-9b13-05f25053a648"
      },
      "source": [
        "# medir os scores: o quanto o modelo ajustou \n",
        "modelo.score(horas_estudo, notas)"
      ],
      "execution_count": null,
      "outputs": [
        {
          "output_type": "execute_result",
          "data": {
            "text/plain": [
              "0.39412152258869326"
            ]
          },
          "metadata": {
            "tags": []
          },
          "execution_count": 9
        }
      ]
    },
    {
      "cell_type": "code",
      "metadata": {
        "colab": {
          "base_uri": "https://localhost:8080/"
        },
        "id": "cAP6cFSROAMZ",
        "outputId": "2af3082e-2a48-4b16-8b5a-e360610b430c"
      },
      "source": [
        "# intercept\n",
        "modelo.intercept_"
      ],
      "execution_count": null,
      "outputs": [
        {
          "output_type": "execute_result",
          "data": {
            "text/plain": [
              "array([49.47712665])"
            ]
          },
          "metadata": {
            "tags": []
          },
          "execution_count": 10
        }
      ]
    },
    {
      "cell_type": "code",
      "metadata": {
        "colab": {
          "base_uri": "https://localhost:8080/"
        },
        "id": "TVja3wwCOEKT",
        "outputId": "7e6c4bc7-0129-49f4-c15a-bd441b978377"
      },
      "source": [
        "# vamos tentar descobrir quantas horas devo estudar para tirar nota\n",
        "novas_horas = np.array([32]).reshape((-1, 1))\n",
        "\n",
        "# predict é utilizado para fazer a predição \"descoberta\"\n",
        "modelo.predict(novas_horas)"
      ],
      "execution_count": null,
      "outputs": [
        {
          "output_type": "execute_result",
          "data": {
            "text/plain": [
              "array([[112.32778828]])"
            ]
          },
          "metadata": {
            "tags": []
          },
          "execution_count": 11
        }
      ]
    },
    {
      "cell_type": "code",
      "metadata": {
        "colab": {
          "base_uri": "https://localhost:8080/"
        },
        "id": "3EdDWwuHO56N",
        "outputId": "e51b6af2-6241-4ecf-f17a-132777bbec7d"
      },
      "source": [
        "# Algumas estatíticas \n",
        "\n",
        "\n",
        "print('Média:', horas_estudo.mean())\n",
        "print('Menor:', horas_estudo.min())\n",
        "print('Maior:', horas_estudo.max())"
      ],
      "execution_count": null,
      "outputs": [
        {
          "output_type": "stream",
          "text": [
            "Média: 10.5\n",
            "Menor: 1\n",
            "Maior: 19\n"
          ],
          "name": "stdout"
        }
      ]
    },
    {
      "cell_type": "code",
      "metadata": {
        "colab": {
          "base_uri": "https://localhost:8080/",
          "height": 283
        },
        "id": "nUnlCefpQZox",
        "outputId": "129a0970-15fb-465b-dc1a-b1929807a09c"
      },
      "source": [
        "import matplotlib.pyplot as plt\n",
        "# comportamento das horas de estudo \n",
        "plt.plot(horas_estudo)"
      ],
      "execution_count": null,
      "outputs": [
        {
          "output_type": "execute_result",
          "data": {
            "text/plain": [
              "[<matplotlib.lines.Line2D at 0x7f2e6f2094d0>]"
            ]
          },
          "metadata": {
            "tags": []
          },
          "execution_count": 15
        },
        {
          "output_type": "display_data",
          "data": {
            "image/png": "[encoded data removed]",
            "text/plain": [
              "<Figure size 432x288 with 1 Axes>"
            ]
          },
          "metadata": {
            "tags": [],
            "needs_background": "light"
          }
        }
      ]
    },
    {
      "cell_type": "code",
      "metadata": {
        "colab": {
          "base_uri": "https://localhost:8080/",
          "height": 283
        },
        "id": "9VvvvyLQQpbC",
        "outputId": "f2bcf452-d720-499b-ec92-b153a8705401"
      },
      "source": [
        "plt.plot(notas)"
      ],
      "execution_count": null,
      "outputs": [
        {
          "output_type": "execute_result",
          "data": {
            "text/plain": [
              "[<matplotlib.lines.Line2D at 0x7f2e6e810c50>]"
            ]
          },
          "metadata": {
            "tags": []
          },
          "execution_count": 16
        },
        {
          "output_type": "display_data",
          "data": {
            "image/png": "[encoded data removed]",
            "text/plain": [
              "<Figure size 432x288 with 1 Axes>"
            ]
          },
          "metadata": {
            "tags": [],
            "needs_background": "light"
          }
        }
      ]
    },
    {
      "cell_type": "code",
      "metadata": {
        "colab": {
          "base_uri": "https://localhost:8080/",
          "height": 283
        },
        "id": "fFhAd4rAQw1O",
        "outputId": "fcb85686-15e9-42bb-d6ae-3d35ee1a3544"
      },
      "source": [
        "# visualizando as dispersão \n",
        "plt.scatter(horas_estudo, notas)\n",
        "plt.plot(horas_estudo, notas, color='blue')\n",
        "# Qual o nome desse fenômeno? R: underfitting"
      ],
      "execution_count": null,
      "outputs": [
        {
          "output_type": "execute_result",
          "data": {
            "text/plain": [
              "[<matplotlib.lines.Line2D at 0x7f2e6e5dd310>]"
            ]
          },
          "metadata": {
            "tags": []
          },
          "execution_count": 20
        },
        {
          "output_type": "display_data",
          "data": {
            "image/png": "[encoded data removed]",
            "text/plain": [
              "<Figure size 432x288 with 1 Axes>"
            ]
          },
          "metadata": {
            "tags": [],
            "needs_background": "light"
          }
        }
      ]
    },
    {
      "cell_type": "markdown",
      "metadata": {
        "id": "HGHrA60nShtR"
      },
      "source": [
        "# vamos dar um up"
      ]
    },
    {
      "cell_type": "code",
      "metadata": {
        "id": "d8VSwBHMSlFa"
      },
      "source": [
        "import pandas as pd\n"
      ],
      "execution_count": null,
      "outputs": []
    },
    {
      "cell_type": "code",
      "metadata": {
        "id": "YBGcVwK8SqgU"
      },
      "source": [
        "# Criação do DataFrame\n",
        "dataframe = pd.DataFrame()\n",
        "dataframe['x'] = [5.1, 5.5, 5.9, 6.5, 6.8, 7.6, 8.3, 8.5, 9.1, 9.5]  # horas de estudo\n",
        "dataframe['y'] = [2.0, 2.9, 4.0, 5.9, 6.0, 6.9, 8.0, 9.0, 9.9, 11.0] # pontuaçao alcançada\n",
        "x_values = dataframe[['x']]\n",
        "y_values = dataframe[['y']]"
      ],
      "execution_count": null,
      "outputs": []
    },
    {
      "cell_type": "code",
      "metadata": {
        "colab": {
          "base_uri": "https://localhost:8080/"
        },
        "id": "wd6m2SyqTsGb",
        "outputId": "4659ed85-91cc-4d3e-a4d7-fd4b98fb2b63"
      },
      "source": [
        "# treinando o modelo \n",
        "from sklearn import linear_model\n",
        "model = linear_model.LinearRegression()\n",
        "model.fit(x_values, y_values)"
      ],
      "execution_count": null,
      "outputs": [
        {
          "output_type": "execute_result",
          "data": {
            "text/plain": [
              "LinearRegression(copy_X=True, fit_intercept=True, n_jobs=None, normalize=False)"
            ]
          },
          "metadata": {
            "tags": []
          },
          "execution_count": 26
        }
      ]
    },
    {
      "cell_type": "code",
      "metadata": {
        "colab": {
          "base_uri": "https://localhost:8080/"
        },
        "id": "F00--E6bUJA5",
        "outputId": "a77d4a2e-5209-468b-f040-54cec759f165"
      },
      "source": [
        "# mostrando os valores obtidos\n",
        "print('Utilizando biblioteca Scikit-Learn')\n",
        "print('y = ax + b')\n",
        "print('a = %.2f => a inclinação da linha de tendência.' % model.coef_[0][0])\n",
        "print('b = %.2f => o ponto onde a linha de tendência atinge o eixo y.' % model.intercept_[0])"
      ],
      "execution_count": null,
      "outputs": [
        {
          "output_type": "stream",
          "text": [
            "Utilizando biblioteca Scikit-Learn\n",
            "y = ax + b\n",
            "a = 1.92 => a inclinação da linha de tendência.\n",
            "b = -7.39 => o ponto onde a linha de tendência atinge o eixo y.\n"
          ],
          "name": "stdout"
        }
      ]
    },
    {
      "cell_type": "code",
      "metadata": {
        "colab": {
          "base_uri": "https://localhost:8080/",
          "height": 265
        },
        "id": "bNW5hrVJUka_",
        "outputId": "0d446318-63fe-4a90-fc84-da7436fc21d5"
      },
      "source": [
        "plt.figure(figsize=(6,4))\n",
        "plt.scatter(dataframe['x'].values, dataframe['y'].values)\n",
        "\n",
        "# traçando a linha da regressão\n",
        "fit = np.polyfit(dataframe['x'].values, dataframe['y'].values, 1)\n",
        "reta = np.poly1d(fit)\n",
        "# plotando um gráfico em cima do outro\n",
        "plt.plot(dataframe['x'].values, reta(dataframe['y'].values), 'r')\n",
        "plt.show()"
      ],
      "execution_count": null,
      "outputs": [
        {
          "output_type": "display_data",
          "data": {
            "image/png": "[encoded data removed]",
            "text/plain": [
              "<Figure size 432x288 with 1 Axes>"
            ]
          },
          "metadata": {
            "tags": [],
            "needs_background": "light"
          }
        }
      ]
    },
    {
      "cell_type": "code",
      "metadata": {
        "colab": {
          "base_uri": "https://localhost:8080/"
        },
        "id": "PSwpBcRhVL1y",
        "outputId": "7287913f-7d9b-4952-a580-cd4de224087d"
      },
      "source": [
        "# predição\n",
        "model.score(x_values, y_values)"
      ],
      "execution_count": null,
      "outputs": [
        {
          "output_type": "execute_result",
          "data": {
            "text/plain": [
              "0.9820148319118528"
            ]
          },
          "metadata": {
            "tags": []
          },
          "execution_count": 40
        }
      ]
    },
    {
      "cell_type": "code",
      "metadata": {
        "colab": {
          "base_uri": "https://localhost:8080/"
        },
        "id": "GNGpGmpmWrRg",
        "outputId": "12f6363a-0c39-4308-8ae3-0e0d6bb68dc1"
      },
      "source": [
        "horas = 8.8\n",
        "nota = model.predict(np.array([[horas]]))\n",
        "print('Nota:', model.predict([[horas]]))\n"
      ],
      "execution_count": null,
      "outputs": [
        {
          "output_type": "stream",
          "text": [
            "Nota: [[9.47225111]]\n"
          ],
          "name": "stdout"
        }
      ]
    },
    {
      "cell_type": "code",
      "metadata": {
        "colab": {
          "base_uri": "https://localhost:8080/",
          "height": 515
        },
        "id": "4jBXeSsJXJAR",
        "outputId": "3825fde4-bb7a-4319-8ba1-df3fe33a55f2"
      },
      "source": [
        "# gráfico \n",
        "plt.figure(1, figsize=(8, 8))\n",
        "plt.scatter(dataframe['x'].values, dataframe['y'].values)\n",
        "fit = np.polyfit(dataframe['x'].values, dataframe['y'].values, 1)\n",
        "fit_fn = np.poly1d(fit)\n",
        "\n",
        "txt ='h(θ0, θ1) = ' + str(nota)\n",
        "plt.annotate(\n",
        "    txt, xy=(horas, nota), xytext=(5, 0.9), \n",
        "    arrowprops=dict(arrowstyle=\"->\",connectionstyle=\"arc3\"))\n",
        "\n",
        "plt.plot(dataframe['x'].values, fit_fn(dataframe['x'].values), 'r')\n",
        "plt.axvline(x=horas, ymin=0, ymax=nota, ls='--',c='black')\n",
        "plt.axhline(y=nota, ls='--',c='black')"
      ],
      "execution_count": null,
      "outputs": [
        {
          "output_type": "execute_result",
          "data": {
            "text/plain": [
              "<matplotlib.lines.Line2D at 0x7f2e6561e490>"
            ]
          },
          "metadata": {
            "tags": []
          },
          "execution_count": 53
        },
        {
          "output_type": "display_data",
          "data": {
            "image/png": "[encoded data removed]",
            "text/plain": [
              "<Figure size 576x576 with 1 Axes>"
            ]
          },
          "metadata": {
            "tags": [],
            "needs_background": "light"
          }
        }
      ]
    }
  ]
}