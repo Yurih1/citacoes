{
  "nbformat": 4,
  "nbformat_minor": 0,
  "metadata": {
    "colab": {
      "name": "Aula23-04.ipynb",
      "provenance": [],
      "authorship_tag": "ABX9TyMuAdpWutA65Vz1AEkszrKd",
      "include_colab_link": true
    },
    "kernelspec": {
      "name": "python3",
      "display_name": "Python 3"
    },
    "language_info": {
      "name": "python"
    }
  },
  "cells": [
    {
      "cell_type": "markdown",
      "metadata": {
        "id": "view-in-github",
        "colab_type": "text"
      },
      "source": [
        "<a href=\"https://colab.research.google.com/github/Yurih1/DataScience/blob/master/Aula23_04.ipynb\" target=\"_parent\"><img src=\"https://colab.research.google.com/assets/colab-badge.svg\" alt=\"Open In Colab\"/></a>"
      ]
    },
    {
      "cell_type": "code",
      "metadata": {
        "id": "8Rf1iJlLloUU",
        "colab": {
          "base_uri": "https://localhost:8080/"
        },
        "outputId": "4ffdd4f0-16b4-4b50-d08c-2b8c1af08eee"
      },
      "source": [
        "import numpy as np\n",
        "matriz_a = np.array([ [1.0, 2.0, 8.0, 6.0], [3.0, 4.0, 4.0, 2.0] ])\n",
        "matriz_b = np.array([ [5.0, 6.0, 9.0, 1.0], [7.0, 8.0, 3.0, 5.0] ])\n",
        "matriz_c = np.zeros((1, 4))\n",
        "\n",
        "matriz_resultante = np.concatenate( (matriz_a, matriz_b, matriz_c) )\n",
        "matriz_resultante"
      ],
      "execution_count": 1,
      "outputs": [
        {
          "output_type": "execute_result",
          "data": {
            "text/plain": [
              "array([[1., 2., 8., 6.],\n",
              "       [3., 4., 4., 2.],\n",
              "       [5., 6., 9., 1.],\n",
              "       [7., 8., 3., 5.],\n",
              "       [0., 0., 0., 0.]])"
            ]
          },
          "metadata": {
            "tags": []
          },
          "execution_count": 1
        }
      ]
    },
    {
      "cell_type": "code",
      "metadata": {
        "colab": {
          "base_uri": "https://localhost:8080/"
        },
        "id": "LgizEm3tqCNj",
        "outputId": "28e72918-5f4b-4731-e3e9-9dd01842e192"
      },
      "source": [
        "# Como fazer a transposição de uma matriz\n",
        "\n",
        "transposta = matriz_resultante.transpose()\n",
        "transposta\n"
      ],
      "execution_count": 2,
      "outputs": [
        {
          "output_type": "execute_result",
          "data": {
            "text/plain": [
              "array([[1., 3., 5., 7., 0.],\n",
              "       [2., 4., 6., 8., 0.],\n",
              "       [8., 4., 9., 3., 0.],\n",
              "       [6., 2., 1., 5., 0.]])"
            ]
          },
          "metadata": {
            "tags": []
          },
          "execution_count": 2
        }
      ]
    },
    {
      "cell_type": "code",
      "metadata": {
        "colab": {
          "base_uri": "https://localhost:8080/"
        },
        "id": "4xGdoEh7qu0D",
        "outputId": "361acc94-cabf-475a-9999-edabdaf37282"
      },
      "source": [
        "# Estatísticas sobre Matrizes\n",
        "print('Máximo:', transposta.max() )\n",
        "print('Mínimo:', transposta.min())\n",
        "print('Soma:', transposta.sum() )\n",
        "print('Média:', transposta.mean() )\n",
        "print('Variância:', transposta.var())\n",
        "print('Desvio Padrão:', transposta.std()) # Standard Deviation\n",
        "print('Ptp:', transposta.ptp()) # Diferença entre o maior e o menor valor da matriz"
      ],
      "execution_count": 3,
      "outputs": [
        {
          "output_type": "stream",
          "text": [
            "Máximo: 9.0\n",
            "Mínimo: 0.0\n",
            "Soma: 74.0\n",
            "Média: 3.7\n",
            "Variância: 8.309999999999999\n",
            "Desvio Padrão: 2.882707061079915\n",
            "Ptp: 9.0\n"
          ],
          "name": "stdout"
        }
      ]
    },
    {
      "cell_type": "code",
      "metadata": {
        "id": "6bU96KFeyzpN"
      },
      "source": [
        "import numpy as np\n",
        "from scipy import linalg"
      ],
      "execution_count": null,
      "outputs": []
    },
    {
      "cell_type": "code",
      "metadata": {
        "id": "ZMef_FUc0h5f"
      },
      "source": [
        "A = np.array([[8]])\n",
        "B = np.array([[4,2],[3,3]])\n",
        "C = np.array([[1,4,2],[1,3,3],[2,6,1]])"
      ],
      "execution_count": 5,
      "outputs": []
    },
    {
      "cell_type": "code",
      "metadata": {
        "colab": {
          "base_uri": "https://localhost:8080/"
        },
        "id": "ZEm5sZz00nVA",
        "outputId": "20961c7b-a1a5-4cca-8eb6-15e1eab87f9f"
      },
      "source": [
        "# Calculando os determinantes \n",
        "print('Matriz de A\\n', A)\n",
        "print('Determinante de A\\n', round(np.linalg.det(A), 2))\n",
        "\n",
        "print('Matriz de B\\n', B)\n",
        "print('Determinante de B\\n', round(np.linalg.det(B), 2))\n",
        "\n",
        "print('Matriz de C\\n', C)\n",
        "print('Determinante de C\\n', round(np.linalg.det(C), 2))"
      ],
      "execution_count": 8,
      "outputs": [
        {
          "output_type": "stream",
          "text": [
            "Matriz de A\n",
            " [[8]]\n",
            "Determinante de A\n",
            " 8.0\n",
            "Matriz de B\n",
            " [[4 2]\n",
            " [3 3]]\n",
            "Determinante de B\n",
            " 6.0\n",
            "Matriz de C\n",
            " [[1 4 2]\n",
            " [1 3 3]\n",
            " [2 6 1]]\n",
            "Determinante de C\n",
            " 5.0\n"
          ],
          "name": "stdout"
        }
      ]
    },
    {
      "cell_type": "code",
      "metadata": {
        "id": "iNgn0pnm1TS9"
      },
      "source": [
        "# A biblioteca scipy tem um conjuto de ferramentas para matemática científica\n",
        "import numpy as np\n",
        "from scipy import linalg"
      ],
      "execution_count": 9,
      "outputs": []
    },
    {
      "cell_type": "code",
      "metadata": {
        "colab": {
          "base_uri": "https://localhost:8080/"
        },
        "id": "k9-Vz_W41wV9",
        "outputId": "df70590a-d61c-47ba-f4c3-918df200fcd9"
      },
      "source": [
        "matriz = np.array([ [1,2,3], [0,1,4], [0,0,1] ])\n",
        "matriz"
      ],
      "execution_count": 10,
      "outputs": [
        {
          "output_type": "execute_result",
          "data": {
            "text/plain": [
              "array([[1, 2, 3],\n",
              "       [0, 1, 4],\n",
              "       [0, 0, 1]])"
            ]
          },
          "metadata": {
            "tags": []
          },
          "execution_count": 10
        }
      ]
    },
    {
      "cell_type": "code",
      "metadata": {
        "colab": {
          "base_uri": "https://localhost:8080/"
        },
        "id": "jpbNOEfu12Mt",
        "outputId": "2f64334c-a874-4b88-d585-1dc8b7d9d89e"
      },
      "source": [
        "# Calculando a inversa dessa matriz\n",
        "linalg.inv(matriz)"
      ],
      "execution_count": 11,
      "outputs": [
        {
          "output_type": "execute_result",
          "data": {
            "text/plain": [
              "array([[ 1., -2.,  5.],\n",
              "       [ 0.,  1., -4.],\n",
              "       [ 0.,  0.,  1.]])"
            ]
          },
          "metadata": {
            "tags": []
          },
          "execution_count": 11
        }
      ]
    },
    {
      "cell_type": "code",
      "metadata": {
        "colab": {
          "base_uri": "https://localhost:8080/"
        },
        "id": "SaRjtbF42BH3",
        "outputId": "a9e07ad8-b0f1-4ebf-fcef-18ac4ddcfbed"
      },
      "source": [
        "# Sistema Lineares \n",
        "A = np.array( [\n",
        "    [3, 2, -1], \n",
        "    [1, 3, 1], \n",
        "    [2, 2, -2] ] )\n",
        "B = np.array( [ \n",
        "    [0], \n",
        "    [1], \n",
        "    [2] ])\n",
        "\n",
        "A_inversa = linalg.inv(A)\n",
        "C = A_inversa.dot(B)\n",
        "C"
      ],
      "execution_count": 14,
      "outputs": [
        {
          "output_type": "execute_result",
          "data": {
            "text/plain": [
              "array([[-1.],\n",
              "       [ 1.],\n",
              "       [-1.]])"
            ]
          },
          "metadata": {
            "tags": []
          },
          "execution_count": 14
        }
      ]
    },
    {
      "cell_type": "code",
      "metadata": {
        "colab": {
          "base_uri": "https://localhost:8080/"
        },
        "id": "gLgLu6vw61ei",
        "outputId": "aca42a34-63f9-47f2-93fc-b6c92eb746df"
      },
      "source": [
        "# Metodo mais sofisticado\n",
        "A = np.array( [\n",
        "    [3, 2, -1], \n",
        "    [1, 3, 1], \n",
        "    [2, 2, -2] ] )\n",
        "B = np.array( [ \n",
        "    [0], \n",
        "    [1], \n",
        "    [2] ])\n",
        "\n",
        "# Primeiro\n",
        "C = np.linalg.solve(A, B)\n",
        "\n",
        "print(C)"
      ],
      "execution_count": 15,
      "outputs": [
        {
          "output_type": "stream",
          "text": [
            "[[-1.]\n",
            " [ 1.]\n",
            " [-1.]]\n"
          ],
          "name": "stdout"
        }
      ]
    },
    {
      "cell_type": "markdown",
      "metadata": {
        "id": "LMUmR7Bm8BVX"
      },
      "source": [
        "Atividade\n",
        "<li>Qual é a inversa da matriz M?</li>\n",
        "    <li>Qual é a transposta da matriz M?</li>\n",
        "    <li>Qual é o determinante da matriz M para a terceira ordem?</li>\n",
        "    <li>Apresentar para a matriz M: máximo, mínimo, soma, média, variância e desvio padrão</li>\n",
        "    <li>Apresente os valores da Diagonal Principal da matriz (M)</li>\n",
        "    <li>Apresente os valores da Diagonal Secundária da matriz (M)</li>\n",
        "    <li>Apresente o somatório da Diagonal Principal da matriz (M)</li>\n",
        "    <li>Apresente o somatório da Diagonal Secundária da matriz(M)</li>"
      ]
    },
    {
      "cell_type": "code",
      "metadata": {
        "id": "_6oB5rIz72i1"
      },
      "source": [
        "M = np.array([\n",
        "    [1,  2 ,  3, 4 , 5],\n",
        "    [7, -2 , -3, 2,  9],\n",
        "    [4,  5,  -3, 3,  9],\n",
        "    [4,  6,  7,  2, -1],\n",
        "    [8, -8,  8, -8,  9]\n",
        "])"
      ],
      "execution_count": 16,
      "outputs": []
    },
    {
      "cell_type": "code",
      "metadata": {
        "colab": {
          "base_uri": "https://localhost:8080/"
        },
        "id": "iVSoGLB39hgi",
        "outputId": "744454a2-7b36-4bab-e3dd-7125ac7ab198"
      },
      "source": [
        "#1\n",
        "np.linalg.inv(M)"
      ],
      "execution_count": 22,
      "outputs": [
        {
          "output_type": "execute_result",
          "data": {
            "text/plain": [
              "array([[-0.11950092,  0.1437093 , -0.04990804,  0.10891286, -0.01531043],\n",
              "       [-0.07140727, -0.09944326,  0.14072675,  0.04448974,  0.00333052],\n",
              "       [ 0.10041259, -0.04255108, -0.04125864,  0.02828454,  0.03116767],\n",
              "       [ 0.14134811,  0.1272307 , -0.13481135,  0.01531043, -0.06924492],\n",
              "       [ 0.07913705, -0.06521847,  0.08629517, -0.06879753,  0.03842521]])"
            ]
          },
          "metadata": {
            "tags": []
          },
          "execution_count": 22
        }
      ]
    },
    {
      "cell_type": "code",
      "metadata": {
        "colab": {
          "base_uri": "https://localhost:8080/"
        },
        "id": "ZZVpbE4l9jGy",
        "outputId": "548ccc45-08d7-4863-ed7e-e47e08072fd4"
      },
      "source": [
        "#2\n",
        "transp = M.transpose()\n",
        "transp"
      ],
      "execution_count": 17,
      "outputs": [
        {
          "output_type": "execute_result",
          "data": {
            "text/plain": [
              "array([[ 1,  7,  4,  4,  8],\n",
              "       [ 2, -2,  5,  6, -8],\n",
              "       [ 3, -3, -3,  7,  8],\n",
              "       [ 4,  2,  3,  2, -8],\n",
              "       [ 5,  9,  9, -1,  9]])"
            ]
          },
          "metadata": {
            "tags": []
          },
          "execution_count": 17
        }
      ]
    },
    {
      "cell_type": "code",
      "metadata": {
        "colab": {
          "base_uri": "https://localhost:8080/"
        },
        "id": "QPVVZ3iJ9zsO",
        "outputId": "e5bf2571-95c5-4cff-8c81-3c7f5da7237e"
      },
      "source": [
        "#3\n",
        "m3 = M[0:3, 0:3]\n",
        "round(np.linalg.det(m3), 2)\n"
      ],
      "execution_count": 23,
      "outputs": [
        {
          "output_type": "execute_result",
          "data": {
            "text/plain": [
              "168.0"
            ]
          },
          "metadata": {
            "tags": []
          },
          "execution_count": 23
        }
      ]
    },
    {
      "cell_type": "code",
      "metadata": {
        "colab": {
          "base_uri": "https://localhost:8080/"
        },
        "id": "WFR4c__0-TEk",
        "outputId": "468df759-e71e-4ca9-9661-781b010c04bf"
      },
      "source": [
        "#4\n",
        "print('Máximo:', M.max())\n",
        "print('Mínimo:', M.min())\n",
        "print('Soma:', M.sum())\n",
        "print('Média:', M.mean())\n",
        "print('Variância:', M.var())\n",
        "print('Desvio Padrão:', M.std())"
      ],
      "execution_count": 21,
      "outputs": [
        {
          "output_type": "stream",
          "text": [
            "Máximo: 9\n",
            "Mínimo: -8\n",
            "Soma: 73\n",
            "Média: 2.92\n",
            "Variância: 22.8736\n",
            "Desvio Padrão: 4.782635256843239\n"
          ],
          "name": "stdout"
        }
      ]
    },
    {
      "cell_type": "code",
      "metadata": {
        "colab": {
          "base_uri": "https://localhost:8080/"
        },
        "id": "KmawIvdI-q1t",
        "outputId": "9ae0030e-1d49-4f37-cc9e-bf15e069844c"
      },
      "source": [
        "#5\n",
        "print(M.diagonal())"
      ],
      "execution_count": 25,
      "outputs": [
        {
          "output_type": "stream",
          "text": [
            "[ 1 -2 -3  2  9]\n"
          ],
          "name": "stdout"
        }
      ]
    },
    {
      "cell_type": "code",
      "metadata": {
        "colab": {
          "base_uri": "https://localhost:8080/"
        },
        "id": "Y8bzuMqlESNF",
        "outputId": "740a2e09-98ba-4395-dbef-0d80d3e585dd"
      },
      "source": [
        "#6\n",
        "\n",
        "for i in range(len(M)):\n",
        "  print(M[i][(len(M)-1)-i])"
      ],
      "execution_count": 27,
      "outputs": [
        {
          "output_type": "stream",
          "text": [
            "5\n",
            "2\n",
            "-3\n",
            "6\n",
            "8\n"
          ],
          "name": "stdout"
        }
      ]
    },
    {
      "cell_type": "code",
      "metadata": {
        "colab": {
          "base_uri": "https://localhost:8080/"
        },
        "id": "9cpJ28tzETTR",
        "outputId": "aef849af-12be-4d09-bbb2-80f87f574cd5"
      },
      "source": [
        "#7\n",
        "sum(M.diagonal())"
      ],
      "execution_count": 28,
      "outputs": [
        {
          "output_type": "execute_result",
          "data": {
            "text/plain": [
              "7"
            ]
          },
          "metadata": {
            "tags": []
          },
          "execution_count": 28
        }
      ]
    },
    {
      "cell_type": "code",
      "metadata": {
        "colab": {
          "base_uri": "https://localhost:8080/"
        },
        "id": "rEW5-EVUEWKa",
        "outputId": "a73496c9-a727-425c-f83f-1ce366d58a49"
      },
      "source": [
        "#8\n",
        "sum(M[i][(len(M)-1)-i] for i in range(len(M)))"
      ],
      "execution_count": 29,
      "outputs": [
        {
          "output_type": "execute_result",
          "data": {
            "text/plain": [
              "18"
            ]
          },
          "metadata": {
            "tags": []
          },
          "execution_count": 29
        }
      ]
    }
  ]
}