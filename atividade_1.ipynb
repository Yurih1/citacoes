{
  "nbformat": 4,
  "nbformat_minor": 0,
  "metadata": {
    "colab": {
      "name": "atividade_1.ipynb",
      "provenance": [],
      "collapsed_sections": [],
      "authorship_tag": "ABX9TyNf3UbPFJszsfGcKk/K81vd",
      "include_colab_link": true
    },
    "kernelspec": {
      "name": "python3",
      "display_name": "Python 3"
    }
  },
  "cells": [
    {
      "cell_type": "markdown",
      "metadata": {
        "id": "view-in-github",
        "colab_type": "text"
      },
      "source": [
        "<a href=\"https://colab.research.google.com/github/Yurih1/DataScience/blob/master/atividade_1.ipynb\" target=\"_parent\"><img src=\"https://colab.research.google.com/assets/colab-badge.svg\" alt=\"Open In Colab\"/></a>"
      ]
    },
    {
      "cell_type": "markdown",
      "metadata": {
        "id": "oGBSlJRx1heA"
      },
      "source": [
        "2.1\n"
      ]
    },
    {
      "cell_type": "markdown",
      "metadata": {
        "id": "Rt51KxO44XeX"
      },
      "source": [
        "1\n"
      ]
    },
    {
      "cell_type": "markdown",
      "metadata": {
        "id": "OVWA7urc4oU4"
      },
      "source": [
        "Alternativa: C"
      ]
    },
    {
      "cell_type": "markdown",
      "metadata": {
        "id": "Ciqoeoh54-_8"
      },
      "source": [
        "2.1"
      ]
    },
    {
      "cell_type": "markdown",
      "metadata": {
        "id": "uWLz-j-i5Caf"
      },
      "source": [
        "2"
      ]
    },
    {
      "cell_type": "markdown",
      "metadata": {
        "id": "TaenTjVu4VZd"
      },
      "source": [
        "2.2"
      ]
    },
    {
      "cell_type": "markdown",
      "metadata": {
        "id": "TuBwxssk4RPQ"
      },
      "source": [
        ""
      ]
    },
    {
      "cell_type": "markdown",
      "metadata": {
        "id": "kcQxD9P21sSC"
      },
      "source": [
        "1"
      ]
    },
    {
      "cell_type": "code",
      "metadata": {
        "colab": {
          "base_uri": "https://localhost:8080/"
        },
        "id": "yAUSuiyh1t6C",
        "outputId": "95d3d6c1-9abe-4c98-ec7f-dbca72e423bd"
      },
      "source": [
        "num1 = int (input(\"Digite o primeiro numero: \"))\n",
        "num2 = int (input(\"Digite o segundo numero: \"))\n",
        "\n",
        "print(num1)\n",
        "print(num2)\n"
      ],
      "execution_count": null,
      "outputs": [
        {
          "output_type": "stream",
          "text": [
            "Digite o primeiro numero: 2\n",
            "Digite o segundo numero: 10\n",
            "2 10\n"
          ],
          "name": "stdout"
        }
      ]
    },
    {
      "cell_type": "markdown",
      "metadata": {
        "id": "2pfOLj6F3Nsc"
      },
      "source": [
        "2\n"
      ]
    },
    {
      "cell_type": "code",
      "metadata": {
        "colab": {
          "base_uri": "https://localhost:8080/"
        },
        "id": "G9pmT96S3VVi",
        "outputId": "569ba247-99ef-41f2-f0ed-43fadc8a419c"
      },
      "source": [
        "a = int (input(\"Digite um numero: \"))\n",
        "\n",
        "if(a < 0):\n",
        "  print(abs(a)) #ou print(a * -1)\n",
        "\n",
        "else:\n",
        "  print(a)"
      ],
      "execution_count": null,
      "outputs": [
        {
          "output_type": "stream",
          "text": [
            "Digite um numero: 20\n",
            "20\n"
          ],
          "name": "stdout"
        }
      ]
    },
    {
      "cell_type": "markdown",
      "metadata": {
        "id": "sK5KUcJP6XZi"
      },
      "source": [
        "3"
      ]
    },
    {
      "cell_type": "code",
      "metadata": {
        "colab": {
          "base_uri": "https://localhost:8080/"
        },
        "id": "BmSSTUJl6YoT",
        "outputId": "a366e671-d75c-45f5-8231-bf2469f2e42d"
      },
      "source": [
        "n1 = float (input(\"numero 1: \"))\n",
        "n2 = float (input(\"numero 2: \"))\n",
        "n3 = float (input(\"numero 3: \"))\n",
        "\n",
        "media = ((n1 + n2 + n3) / 3)\n",
        "\n",
        "print(\"MÉDIA = %0.1f\" %media)"
      ],
      "execution_count": null,
      "outputs": [
        {
          "output_type": "stream",
          "text": [
            "numero 1: 5\n",
            "numero 2: 5\n",
            "numero 3: 5\n",
            "MÉDIA = 5.0\n"
          ],
          "name": "stdout"
        }
      ]
    },
    {
      "cell_type": "markdown",
      "metadata": {
        "id": "kp43FeAr8TIR"
      },
      "source": [
        "4"
      ]
    },
    {
      "cell_type": "code",
      "metadata": {
        "colab": {
          "base_uri": "https://localhost:8080/"
        },
        "id": "fZHfv9js8UcT",
        "outputId": "36ce6168-760b-4c30-82d2-4e94a03fb28f"
      },
      "source": [
        "po1 = int (input(\"Digite o numero 1: \"))\n",
        "po2 = int (input(\"Digite o numero 2: \"))\n",
        "po3 = int (input(\"Digite o numero 3: \"))\n",
        "po4 = int (input(\"Digite o numero 4: \"))\n",
        "po5 = int (input(\"Digite o numero 5: \"))\n",
        "\n",
        "print(\"POTÊNCIA DE 2 DO NUMERO 1: \",pow(po1, 2),\"POTÊNCIA DE 3: \",pow(po1, 3))\n",
        "print(\"POTÊNCIA DE 2 DO NUMERO 2: \",pow(po2, 2),\"POTÊNCIA DE 3: \",pow(po2, 3))\n",
        "print(\"POTÊNCIA DE 2 DO NUMERO 3: \",pow(po3, 2),\"POTÊNCIA DE 3: \",pow(po3, 3))\n",
        "print(\"POTÊNCIA DE 2 DO NUMERO 4: \",pow(po4, 2),\"POTÊNCIA DE 3: \",pow(po4, 3))\n",
        "print(\"POTÊNCIA DE 2 DO NUMERO 5: \",pow(po5, 2),\"POTÊNCIA DE 3: \",pow(po5, 3))\n",
        "\n"
      ],
      "execution_count": null,
      "outputs": [
        {
          "output_type": "stream",
          "text": [
            "Digite o numero 1: 1\n",
            "Digite o numero 2: 2\n",
            "Digite o numero 3: 3\n",
            "Digite o numero 4: 4\n",
            "Digite o numero 5: 5\n",
            "POTÊNCIA DE 2 DO NUMERO 1:  1 POTÊNCIA DE 3:  1\n",
            "POTÊNCIA DE 2 DO NUMERO 2:  4 POTÊNCIA DE 3:  8\n",
            "POTÊNCIA DE 2 DO NUMERO 3:  9 POTÊNCIA DE 3:  27\n",
            "POTÊNCIA DE 2 DO NUMERO 4:  16 POTÊNCIA DE 3:  64\n",
            "POTÊNCIA DE 2 DO NUMERO 5:  25 POTÊNCIA DE 3:  125\n"
          ],
          "name": "stdout"
        }
      ]
    },
    {
      "cell_type": "markdown",
      "metadata": {
        "id": "ozXTzJVXAQ8X"
      },
      "source": [
        "6"
      ]
    },
    {
      "cell_type": "code",
      "metadata": {
        "colab": {
          "base_uri": "https://localhost:8080/"
        },
        "id": "fZ5OSJUZARzw",
        "outputId": "256e4564-6158-4675-f547-3c3dd00934dd"
      },
      "source": [
        "A = int (input(\"NUMERO 1: \"))\n",
        "B = int (input(\"NUMERO 2: \"))\n",
        "C = int (input(\"NUMERO 3: \"))\n",
        "\n",
        "if (A>B and A>C):\n",
        "  print(A)\n",
        "elif (B>A and B>C):\n",
        "  print(B)\n",
        "else:\n",
        "  print(C)\n",
        "\n"
      ],
      "execution_count": null,
      "outputs": [
        {
          "output_type": "stream",
          "text": [
            "NUMERO 1: 8\n",
            "NUMERO 2: 9\n",
            "NUMERO 3: 3\n",
            "9\n"
          ],
          "name": "stdout"
        }
      ]
    },
    {
      "cell_type": "markdown",
      "metadata": {
        "id": "LycFBrCZBIe2"
      },
      "source": [
        "7\n"
      ]
    },
    {
      "cell_type": "code",
      "metadata": {
        "colab": {
          "base_uri": "https://localhost:8080/"
        },
        "id": "nMqiEouwBJdu",
        "outputId": "d7a63415-70cb-4a6c-a31e-d9585f5a0557"
      },
      "source": [
        "lis = []\n",
        "qtd = 3\n",
        "for i in range(qtd):\n",
        "    ab = int(input('Digite um numero: '))\n",
        "    lis.append(ab)\n",
        "\n",
        "lis.sort(reverse = True) \n",
        "print(lis)"
      ],
      "execution_count": null,
      "outputs": [
        {
          "output_type": "stream",
          "text": [
            "Digite um numero: 8\n",
            "Digite um numero: 3\n",
            "Digite um numero: 10\n",
            "[10, 8, 3]\n"
          ],
          "name": "stdout"
        }
      ]
    },
    {
      "cell_type": "markdown",
      "metadata": {
        "id": "VQC1WPNZEnqD"
      },
      "source": [
        "8"
      ]
    },
    {
      "cell_type": "code",
      "metadata": {
        "colab": {
          "base_uri": "https://localhost:8080/"
        },
        "id": "iQ0Mw98qEoYY",
        "outputId": "d175e391-e95a-470a-9625-e5083dd56570"
      },
      "source": [
        "pri = int(input(\"Digite um numero: \"))\n",
        "seg = int(input(\"Digite um numero: \"))\n",
        "ter = int(input(\"Digite um numero: \"))\n",
        "\n",
        "maior = pri\n",
        "menor = pri\n",
        "\n",
        "if maior < seg:\n",
        "  maior = seg\n",
        "\n",
        "if maior < ter:\n",
        "  maior = ter\n",
        "\n",
        "if menor > seg:\n",
        "  menor = seg\n",
        "\n",
        "if menor > ter:\n",
        "  menor = ter\n",
        "\n",
        "print(maior)\n",
        "print(menor)\n"
      ],
      "execution_count": null,
      "outputs": [
        {
          "output_type": "stream",
          "text": [
            "Digite um numero: 8\n",
            "Digite um numero: 2\n",
            "Digite um numero: 1\n",
            "8\n",
            "1\n"
          ],
          "name": "stdout"
        }
      ]
    },
    {
      "cell_type": "markdown",
      "metadata": {
        "id": "FCPhPEkhHmZE"
      },
      "source": [
        "9"
      ]
    },
    {
      "cell_type": "code",
      "metadata": {
        "id": "z7Uzt60jHpHY",
        "colab": {
          "base_uri": "https://localhost:8080/"
        },
        "outputId": "5bcdcf39-1585-4d8a-8c02-0c2aa2234bfd"
      },
      "source": [
        "prod1 = float(input(\"Digite o 1º produto: \"))\n",
        "prod2 = float(input(\"Digite o 2º produto: \"))\n",
        "prod3 = float(input(\"Digite o 3º produto: \"))\n",
        "\n",
        "if (prod1 < prod2 and prod1 < prod3):\n",
        "  print(\"R$ %.2f\"%prod1)\n",
        "elif (prod2 < prod1 and prod2 < prod3):\n",
        "  print(\"R$ %.2f\"%prod2)\n",
        "else:\n",
        "  print(\"R$ %.2f\"%prod3)"
      ],
      "execution_count": null,
      "outputs": [
        {
          "output_type": "stream",
          "text": [
            "Digite o 1º produto: 7.50\n",
            "Digite o 2º produto: 5.60\n",
            "Digite o 3º produto: 10.98\n",
            "R$ 5.60\n"
          ],
          "name": "stdout"
        }
      ]
    },
    {
      "cell_type": "markdown",
      "metadata": {
        "id": "Tzi50RVMHwGI"
      },
      "source": [
        "10"
      ]
    },
    {
      "cell_type": "code",
      "metadata": {
        "colab": {
          "base_uri": "https://localhost:8080/"
        },
        "id": "7GbC61I5HxEJ",
        "outputId": "4d125896-a564-4485-eeea-72d6fbdcdf25"
      },
      "source": [
        "flo = 5.0\n",
        "int1 = 30\n",
        "int2 = 800\n",
        "str1 = \"70\"\n",
        "flo2 = 70.5\n",
        "\n",
        "print(type (flo))\n",
        "print(type (int1))\n",
        "print(type (int2))\n",
        "print(type (str1))\n",
        "print(type (flo2))"
      ],
      "execution_count": null,
      "outputs": [
        {
          "output_type": "stream",
          "text": [
            "<class 'float'>\n",
            "<class 'int'>\n",
            "<class 'int'>\n",
            "<class 'str'>\n",
            "<class 'float'>\n"
          ],
          "name": "stdout"
        }
      ]
    },
    {
      "cell_type": "code",
      "metadata": {
        "colab": {
          "base_uri": "https://localhost:8080/"
        },
        "id": "T0tHFmGH8Fb6",
        "outputId": "a337a341-3a39-41da-960f-2e1fae75a48b"
      },
      "source": [
        "azeitona = float(input('Quantidade de azeitona: ')) #coleta quant de itens \n",
        "acucar = float(input('Quantidade de açucar: '))\n",
        "farinha = float(input('Quantidade de farinha: '))\n",
        "fermento = float(input('Quantidade de fermento: '))\n",
        "vinagre = float(input('Quantidade de vinagre: '))\n",
        "\n",
        "if (azeitona > 0 ):\n",
        "  azeitona = 9.45 * azeitona\n",
        "  print('Total em azeitona: R$ %.2f'%azeitona)\n",
        "\n",
        "if (acucar > 0 and acucar <= 10):\n",
        "  acucar = (2.12 * acucar)\n",
        "  print('Total em açucar: R$ %.2f'%acucar)\n",
        "  if (acucar > 10):\n",
        "    acucar = (2.12 * acucar) / 1.3\n",
        "    print('Total em açucar: R$ %.2f'%acucar)\n",
        "\n",
        "if (farinha > 0 ):\n",
        "  farinha = 4.67 * farinha\n",
        "  print('Total em farinha: R$ %.2f'%farinha)\n",
        "\n",
        "if (fermento > 0):\n",
        "  fermento = 1.88 * fermento\n",
        "  print('Total em fermento: R$ %.2f'%fermento)\n",
        "\n",
        "if (vinagre > 0 and vinagre < 2):\n",
        "  vinagre = (5.56 * vinagre)\n",
        "  print('Total em vinagre: R$ %.2f'%vinagre)\n",
        "  if (vinagre >= 2):\n",
        "    vinagre = ((5.56 * vinagre) / 0.10)\n",
        "    print('Total em vinagre: R$ %.2f'%vinagre)\n",
        "\n",
        "total = (azeitona + acucar + farinha + fermento + vinagre)\n",
        "print('Total Geral: R$ %.2f'%total)\n"
      ],
      "execution_count": 15,
      "outputs": [
        {
          "output_type": "stream",
          "text": [
            "Quantidade de azeitona: 3\n",
            "Quantidade de açucar: 10\n",
            "Quantidade de farinha: 2\n",
            "Quantidade de fermento: 4\n",
            "Quantidade de vinagre: 2\n",
            "Total em azeitona R$ 28.35\n",
            "Total em açucar R$ 21.20\n",
            "Total em açucar R$ 34.57\n",
            "Total em farinha R$ 9.34\n",
            "Total em fermento R$ 7.52\n",
            "Total Geral: R$ 81.78\n"
          ],
          "name": "stdout"
        }
      ]
    }
  ]
}